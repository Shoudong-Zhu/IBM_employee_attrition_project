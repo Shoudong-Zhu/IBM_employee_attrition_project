{
 "cells": [
  {
   "cell_type": "markdown",
   "id": "b24ba79e",
   "metadata": {},
   "source": [
    "### Final project - IBM HR Analytics Employee Attrition & Performance"
   ]
  },
  {
   "cell_type": "markdown",
   "id": "fbf3592f",
   "metadata": {},
   "source": [
    "## **Data Retrieving and EDA** "
   ]
  },
  {
   "cell_type": "code",
   "execution_count": 1,
   "id": "63774eb6",
   "metadata": {},
   "outputs": [],
   "source": [
    "import numpy as np\n",
    "import pandas as pd\n",
    "import seaborn as sns\n",
    "import matplotlib.pyplot as plt\n",
    "%matplotlib inline\n",
    "import os"
   ]
  },
  {
   "cell_type": "code",
   "execution_count": 2,
   "id": "d2e7935c-0cde-47ad-a632-74ed0d5c16a0",
   "metadata": {},
   "outputs": [],
   "source": [
    "from sklearn import metrics\n",
    "from sklearn.linear_model import LogisticRegression\n",
    "from sklearn.model_selection import train_test_split"
   ]
  },
  {
   "cell_type": "code",
   "execution_count": 3,
   "id": "b0e50f80",
   "metadata": {},
   "outputs": [],
   "source": [
    "# dataset path\n",
    "file_path = 'IBM-HR-Employee-Attrition.csv'\n",
    "\n",
    "# reading our dataset as a dataframe\n",
    "df = pd.read_csv(file_path)\n"
   ]
  },
  {
   "cell_type": "markdown",
   "id": "08d0d68c",
   "metadata": {},
   "source": [
    "**There is no null value in any features according to the information, and the feature employeecount, employeenumber, Over18 and standardHours seem to have no impact on the response variable. So we decide to drop these four features.**"
   ]
  },
  {
   "cell_type": "code",
   "execution_count": 4,
   "id": "e460b7b9",
   "metadata": {},
   "outputs": [],
   "source": [
    "df = df.drop(['EmployeeCount','EmployeeNumber', 'Over18', 'StandardHours'], axis='columns')\n"
   ]
  },
  {
   "cell_type": "markdown",
   "id": "fd4382a5",
   "metadata": {},
   "source": [
    "**According to the dataset information, we should select the 'object' and 'int64' type feature and encode the object type feature.**"
   ]
  },
  {
   "cell_type": "code",
   "execution_count": 5,
   "id": "09a908dd",
   "metadata": {},
   "outputs": [],
   "source": [
    "categorical_columns = [colname for colname in df.columns if df[colname].dtype == \"object\"]\n",
    "numerical_columns = [colname for colname in df.columns if df[colname].dtype == \"int64\"]\n"
   ]
  },
  {
   "cell_type": "markdown",
   "id": "9645a33b",
   "metadata": {},
   "source": [
    "**Determine the missing value of the dataset**"
   ]
  },
  {
   "cell_type": "code",
   "execution_count": 6,
   "id": "c80d308a",
   "metadata": {},
   "outputs": [],
   "source": [
    "missing_counts_numerical = df[numerical_columns].isna().sum().sort_values(ascending=False)\n"
   ]
  },
  {
   "cell_type": "code",
   "execution_count": 7,
   "id": "09d08eb6",
   "metadata": {},
   "outputs": [],
   "source": [
    "\n",
    "\n",
    "missing_counts_categorical = df[categorical_columns].isna().sum().sort_values(ascending=False)\n"
   ]
  },
  {
   "cell_type": "code",
   "execution_count": 8,
   "id": "d7f6893c",
   "metadata": {},
   "outputs": [
    {
     "data": {
      "text/plain": [
       "Age                         0\n",
       "Attrition                   0\n",
       "BusinessTravel              0\n",
       "DailyRate                   0\n",
       "Department                  0\n",
       "DistanceFromHome            0\n",
       "Education                   0\n",
       "EducationField              0\n",
       "EnvironmentSatisfaction     0\n",
       "Gender                      0\n",
       "HourlyRate                  0\n",
       "JobInvolvement              0\n",
       "JobLevel                    0\n",
       "JobRole                     0\n",
       "JobSatisfaction             0\n",
       "MaritalStatus               0\n",
       "MonthlyIncome               0\n",
       "MonthlyRate                 0\n",
       "NumCompaniesWorked          0\n",
       "OverTime                    0\n",
       "PercentSalaryHike           0\n",
       "PerformanceRating           0\n",
       "RelationshipSatisfaction    0\n",
       "StockOptionLevel            0\n",
       "TotalWorkingYears           0\n",
       "TrainingTimesLastYear       0\n",
       "WorkLifeBalance             0\n",
       "YearsAtCompany              0\n",
       "YearsInCurrentRole          0\n",
       "YearsSinceLastPromotion     0\n",
       "YearsWithCurrManager        0\n",
       "dtype: int64"
      ]
     },
     "execution_count": 8,
     "metadata": {},
     "output_type": "execute_result"
    }
   ],
   "source": [
    "df.isnull().sum()"
   ]
  },
  {
   "cell_type": "code",
   "execution_count": 9,
   "id": "563eb6cc",
   "metadata": {},
   "outputs": [
    {
     "data": {
      "text/html": [
       "<div>\n",
       "<style scoped>\n",
       "    .dataframe tbody tr th:only-of-type {\n",
       "        vertical-align: middle;\n",
       "    }\n",
       "\n",
       "    .dataframe tbody tr th {\n",
       "        vertical-align: top;\n",
       "    }\n",
       "\n",
       "    .dataframe thead th {\n",
       "        text-align: right;\n",
       "    }\n",
       "</style>\n",
       "<table border=\"1\" class=\"dataframe\">\n",
       "  <thead>\n",
       "    <tr style=\"text-align: right;\">\n",
       "      <th></th>\n",
       "      <th>count</th>\n",
       "      <th>mean</th>\n",
       "      <th>std</th>\n",
       "      <th>min</th>\n",
       "      <th>25%</th>\n",
       "      <th>50%</th>\n",
       "      <th>75%</th>\n",
       "      <th>max</th>\n",
       "    </tr>\n",
       "  </thead>\n",
       "  <tbody>\n",
       "    <tr>\n",
       "      <th>Age</th>\n",
       "      <td>1470.0</td>\n",
       "      <td>36.923810</td>\n",
       "      <td>9.135373</td>\n",
       "      <td>18.0</td>\n",
       "      <td>30.0</td>\n",
       "      <td>36.0</td>\n",
       "      <td>43.00</td>\n",
       "      <td>60.0</td>\n",
       "    </tr>\n",
       "    <tr>\n",
       "      <th>DailyRate</th>\n",
       "      <td>1470.0</td>\n",
       "      <td>802.485714</td>\n",
       "      <td>403.509100</td>\n",
       "      <td>102.0</td>\n",
       "      <td>465.0</td>\n",
       "      <td>802.0</td>\n",
       "      <td>1157.00</td>\n",
       "      <td>1499.0</td>\n",
       "    </tr>\n",
       "    <tr>\n",
       "      <th>DistanceFromHome</th>\n",
       "      <td>1470.0</td>\n",
       "      <td>9.192517</td>\n",
       "      <td>8.106864</td>\n",
       "      <td>1.0</td>\n",
       "      <td>2.0</td>\n",
       "      <td>7.0</td>\n",
       "      <td>14.00</td>\n",
       "      <td>29.0</td>\n",
       "    </tr>\n",
       "    <tr>\n",
       "      <th>Education</th>\n",
       "      <td>1470.0</td>\n",
       "      <td>2.912925</td>\n",
       "      <td>1.024165</td>\n",
       "      <td>1.0</td>\n",
       "      <td>2.0</td>\n",
       "      <td>3.0</td>\n",
       "      <td>4.00</td>\n",
       "      <td>5.0</td>\n",
       "    </tr>\n",
       "    <tr>\n",
       "      <th>EnvironmentSatisfaction</th>\n",
       "      <td>1470.0</td>\n",
       "      <td>2.721769</td>\n",
       "      <td>1.093082</td>\n",
       "      <td>1.0</td>\n",
       "      <td>2.0</td>\n",
       "      <td>3.0</td>\n",
       "      <td>4.00</td>\n",
       "      <td>4.0</td>\n",
       "    </tr>\n",
       "    <tr>\n",
       "      <th>HourlyRate</th>\n",
       "      <td>1470.0</td>\n",
       "      <td>65.891156</td>\n",
       "      <td>20.329428</td>\n",
       "      <td>30.0</td>\n",
       "      <td>48.0</td>\n",
       "      <td>66.0</td>\n",
       "      <td>83.75</td>\n",
       "      <td>100.0</td>\n",
       "    </tr>\n",
       "    <tr>\n",
       "      <th>JobInvolvement</th>\n",
       "      <td>1470.0</td>\n",
       "      <td>2.729932</td>\n",
       "      <td>0.711561</td>\n",
       "      <td>1.0</td>\n",
       "      <td>2.0</td>\n",
       "      <td>3.0</td>\n",
       "      <td>3.00</td>\n",
       "      <td>4.0</td>\n",
       "    </tr>\n",
       "    <tr>\n",
       "      <th>JobLevel</th>\n",
       "      <td>1470.0</td>\n",
       "      <td>2.063946</td>\n",
       "      <td>1.106940</td>\n",
       "      <td>1.0</td>\n",
       "      <td>1.0</td>\n",
       "      <td>2.0</td>\n",
       "      <td>3.00</td>\n",
       "      <td>5.0</td>\n",
       "    </tr>\n",
       "    <tr>\n",
       "      <th>JobSatisfaction</th>\n",
       "      <td>1470.0</td>\n",
       "      <td>2.728571</td>\n",
       "      <td>1.102846</td>\n",
       "      <td>1.0</td>\n",
       "      <td>2.0</td>\n",
       "      <td>3.0</td>\n",
       "      <td>4.00</td>\n",
       "      <td>4.0</td>\n",
       "    </tr>\n",
       "    <tr>\n",
       "      <th>MonthlyIncome</th>\n",
       "      <td>1470.0</td>\n",
       "      <td>6502.931293</td>\n",
       "      <td>4707.956783</td>\n",
       "      <td>1009.0</td>\n",
       "      <td>2911.0</td>\n",
       "      <td>4919.0</td>\n",
       "      <td>8379.00</td>\n",
       "      <td>19999.0</td>\n",
       "    </tr>\n",
       "    <tr>\n",
       "      <th>MonthlyRate</th>\n",
       "      <td>1470.0</td>\n",
       "      <td>14313.103401</td>\n",
       "      <td>7117.786044</td>\n",
       "      <td>2094.0</td>\n",
       "      <td>8047.0</td>\n",
       "      <td>14235.5</td>\n",
       "      <td>20461.50</td>\n",
       "      <td>26999.0</td>\n",
       "    </tr>\n",
       "    <tr>\n",
       "      <th>NumCompaniesWorked</th>\n",
       "      <td>1470.0</td>\n",
       "      <td>2.693197</td>\n",
       "      <td>2.498009</td>\n",
       "      <td>0.0</td>\n",
       "      <td>1.0</td>\n",
       "      <td>2.0</td>\n",
       "      <td>4.00</td>\n",
       "      <td>9.0</td>\n",
       "    </tr>\n",
       "    <tr>\n",
       "      <th>PercentSalaryHike</th>\n",
       "      <td>1470.0</td>\n",
       "      <td>15.209524</td>\n",
       "      <td>3.659938</td>\n",
       "      <td>11.0</td>\n",
       "      <td>12.0</td>\n",
       "      <td>14.0</td>\n",
       "      <td>18.00</td>\n",
       "      <td>25.0</td>\n",
       "    </tr>\n",
       "    <tr>\n",
       "      <th>PerformanceRating</th>\n",
       "      <td>1470.0</td>\n",
       "      <td>3.153741</td>\n",
       "      <td>0.360824</td>\n",
       "      <td>3.0</td>\n",
       "      <td>3.0</td>\n",
       "      <td>3.0</td>\n",
       "      <td>3.00</td>\n",
       "      <td>4.0</td>\n",
       "    </tr>\n",
       "    <tr>\n",
       "      <th>RelationshipSatisfaction</th>\n",
       "      <td>1470.0</td>\n",
       "      <td>2.712245</td>\n",
       "      <td>1.081209</td>\n",
       "      <td>1.0</td>\n",
       "      <td>2.0</td>\n",
       "      <td>3.0</td>\n",
       "      <td>4.00</td>\n",
       "      <td>4.0</td>\n",
       "    </tr>\n",
       "    <tr>\n",
       "      <th>StockOptionLevel</th>\n",
       "      <td>1470.0</td>\n",
       "      <td>0.793878</td>\n",
       "      <td>0.852077</td>\n",
       "      <td>0.0</td>\n",
       "      <td>0.0</td>\n",
       "      <td>1.0</td>\n",
       "      <td>1.00</td>\n",
       "      <td>3.0</td>\n",
       "    </tr>\n",
       "    <tr>\n",
       "      <th>TotalWorkingYears</th>\n",
       "      <td>1470.0</td>\n",
       "      <td>11.279592</td>\n",
       "      <td>7.780782</td>\n",
       "      <td>0.0</td>\n",
       "      <td>6.0</td>\n",
       "      <td>10.0</td>\n",
       "      <td>15.00</td>\n",
       "      <td>40.0</td>\n",
       "    </tr>\n",
       "    <tr>\n",
       "      <th>TrainingTimesLastYear</th>\n",
       "      <td>1470.0</td>\n",
       "      <td>2.799320</td>\n",
       "      <td>1.289271</td>\n",
       "      <td>0.0</td>\n",
       "      <td>2.0</td>\n",
       "      <td>3.0</td>\n",
       "      <td>3.00</td>\n",
       "      <td>6.0</td>\n",
       "    </tr>\n",
       "    <tr>\n",
       "      <th>WorkLifeBalance</th>\n",
       "      <td>1470.0</td>\n",
       "      <td>2.761224</td>\n",
       "      <td>0.706476</td>\n",
       "      <td>1.0</td>\n",
       "      <td>2.0</td>\n",
       "      <td>3.0</td>\n",
       "      <td>3.00</td>\n",
       "      <td>4.0</td>\n",
       "    </tr>\n",
       "    <tr>\n",
       "      <th>YearsAtCompany</th>\n",
       "      <td>1470.0</td>\n",
       "      <td>7.008163</td>\n",
       "      <td>6.126525</td>\n",
       "      <td>0.0</td>\n",
       "      <td>3.0</td>\n",
       "      <td>5.0</td>\n",
       "      <td>9.00</td>\n",
       "      <td>40.0</td>\n",
       "    </tr>\n",
       "    <tr>\n",
       "      <th>YearsInCurrentRole</th>\n",
       "      <td>1470.0</td>\n",
       "      <td>4.229252</td>\n",
       "      <td>3.623137</td>\n",
       "      <td>0.0</td>\n",
       "      <td>2.0</td>\n",
       "      <td>3.0</td>\n",
       "      <td>7.00</td>\n",
       "      <td>18.0</td>\n",
       "    </tr>\n",
       "    <tr>\n",
       "      <th>YearsSinceLastPromotion</th>\n",
       "      <td>1470.0</td>\n",
       "      <td>2.187755</td>\n",
       "      <td>3.222430</td>\n",
       "      <td>0.0</td>\n",
       "      <td>0.0</td>\n",
       "      <td>1.0</td>\n",
       "      <td>3.00</td>\n",
       "      <td>15.0</td>\n",
       "    </tr>\n",
       "    <tr>\n",
       "      <th>YearsWithCurrManager</th>\n",
       "      <td>1470.0</td>\n",
       "      <td>4.123129</td>\n",
       "      <td>3.568136</td>\n",
       "      <td>0.0</td>\n",
       "      <td>2.0</td>\n",
       "      <td>3.0</td>\n",
       "      <td>7.00</td>\n",
       "      <td>17.0</td>\n",
       "    </tr>\n",
       "  </tbody>\n",
       "</table>\n",
       "</div>"
      ],
      "text/plain": [
       "                           count          mean          std     min     25%  \\\n",
       "Age                       1470.0     36.923810     9.135373    18.0    30.0   \n",
       "DailyRate                 1470.0    802.485714   403.509100   102.0   465.0   \n",
       "DistanceFromHome          1470.0      9.192517     8.106864     1.0     2.0   \n",
       "Education                 1470.0      2.912925     1.024165     1.0     2.0   \n",
       "EnvironmentSatisfaction   1470.0      2.721769     1.093082     1.0     2.0   \n",
       "HourlyRate                1470.0     65.891156    20.329428    30.0    48.0   \n",
       "JobInvolvement            1470.0      2.729932     0.711561     1.0     2.0   \n",
       "JobLevel                  1470.0      2.063946     1.106940     1.0     1.0   \n",
       "JobSatisfaction           1470.0      2.728571     1.102846     1.0     2.0   \n",
       "MonthlyIncome             1470.0   6502.931293  4707.956783  1009.0  2911.0   \n",
       "MonthlyRate               1470.0  14313.103401  7117.786044  2094.0  8047.0   \n",
       "NumCompaniesWorked        1470.0      2.693197     2.498009     0.0     1.0   \n",
       "PercentSalaryHike         1470.0     15.209524     3.659938    11.0    12.0   \n",
       "PerformanceRating         1470.0      3.153741     0.360824     3.0     3.0   \n",
       "RelationshipSatisfaction  1470.0      2.712245     1.081209     1.0     2.0   \n",
       "StockOptionLevel          1470.0      0.793878     0.852077     0.0     0.0   \n",
       "TotalWorkingYears         1470.0     11.279592     7.780782     0.0     6.0   \n",
       "TrainingTimesLastYear     1470.0      2.799320     1.289271     0.0     2.0   \n",
       "WorkLifeBalance           1470.0      2.761224     0.706476     1.0     2.0   \n",
       "YearsAtCompany            1470.0      7.008163     6.126525     0.0     3.0   \n",
       "YearsInCurrentRole        1470.0      4.229252     3.623137     0.0     2.0   \n",
       "YearsSinceLastPromotion   1470.0      2.187755     3.222430     0.0     0.0   \n",
       "YearsWithCurrManager      1470.0      4.123129     3.568136     0.0     2.0   \n",
       "\n",
       "                              50%       75%      max  \n",
       "Age                          36.0     43.00     60.0  \n",
       "DailyRate                   802.0   1157.00   1499.0  \n",
       "DistanceFromHome              7.0     14.00     29.0  \n",
       "Education                     3.0      4.00      5.0  \n",
       "EnvironmentSatisfaction       3.0      4.00      4.0  \n",
       "HourlyRate                   66.0     83.75    100.0  \n",
       "JobInvolvement                3.0      3.00      4.0  \n",
       "JobLevel                      2.0      3.00      5.0  \n",
       "JobSatisfaction               3.0      4.00      4.0  \n",
       "MonthlyIncome              4919.0   8379.00  19999.0  \n",
       "MonthlyRate               14235.5  20461.50  26999.0  \n",
       "NumCompaniesWorked            2.0      4.00      9.0  \n",
       "PercentSalaryHike            14.0     18.00     25.0  \n",
       "PerformanceRating             3.0      3.00      4.0  \n",
       "RelationshipSatisfaction      3.0      4.00      4.0  \n",
       "StockOptionLevel              1.0      1.00      3.0  \n",
       "TotalWorkingYears            10.0     15.00     40.0  \n",
       "TrainingTimesLastYear         3.0      3.00      6.0  \n",
       "WorkLifeBalance               3.0      3.00      4.0  \n",
       "YearsAtCompany                5.0      9.00     40.0  \n",
       "YearsInCurrentRole            3.0      7.00     18.0  \n",
       "YearsSinceLastPromotion       1.0      3.00     15.0  \n",
       "YearsWithCurrManager          3.0      7.00     17.0  "
      ]
     },
     "execution_count": 9,
     "metadata": {},
     "output_type": "execute_result"
    }
   ],
   "source": [
    "df.describe().T"
   ]
  },
  {
   "cell_type": "code",
   "execution_count": 10,
   "id": "0a426589",
   "metadata": {},
   "outputs": [
    {
     "data": {
      "text/plain": [
       "(1470, 31)"
      ]
     },
     "execution_count": 10,
     "metadata": {},
     "output_type": "execute_result"
    }
   ],
   "source": [
    "df.shape"
   ]
  },
  {
   "cell_type": "code",
   "execution_count": 11,
   "id": "dd424e31",
   "metadata": {},
   "outputs": [
    {
     "data": {
      "text/html": [
       "<div>\n",
       "<style scoped>\n",
       "    .dataframe tbody tr th:only-of-type {\n",
       "        vertical-align: middle;\n",
       "    }\n",
       "\n",
       "    .dataframe tbody tr th {\n",
       "        vertical-align: top;\n",
       "    }\n",
       "\n",
       "    .dataframe thead th {\n",
       "        text-align: right;\n",
       "    }\n",
       "</style>\n",
       "<table border=\"1\" class=\"dataframe\">\n",
       "  <thead>\n",
       "    <tr style=\"text-align: right;\">\n",
       "      <th></th>\n",
       "      <th>Age</th>\n",
       "      <th>DailyRate</th>\n",
       "      <th>DistanceFromHome</th>\n",
       "      <th>Education</th>\n",
       "      <th>EnvironmentSatisfaction</th>\n",
       "      <th>HourlyRate</th>\n",
       "      <th>JobInvolvement</th>\n",
       "      <th>JobLevel</th>\n",
       "      <th>JobSatisfaction</th>\n",
       "      <th>MonthlyIncome</th>\n",
       "      <th>...</th>\n",
       "      <th>PerformanceRating</th>\n",
       "      <th>RelationshipSatisfaction</th>\n",
       "      <th>StockOptionLevel</th>\n",
       "      <th>TotalWorkingYears</th>\n",
       "      <th>TrainingTimesLastYear</th>\n",
       "      <th>WorkLifeBalance</th>\n",
       "      <th>YearsAtCompany</th>\n",
       "      <th>YearsInCurrentRole</th>\n",
       "      <th>YearsSinceLastPromotion</th>\n",
       "      <th>YearsWithCurrManager</th>\n",
       "    </tr>\n",
       "  </thead>\n",
       "  <tbody>\n",
       "    <tr>\n",
       "      <th>Age</th>\n",
       "      <td>1.00</td>\n",
       "      <td>0.01</td>\n",
       "      <td>-0.00</td>\n",
       "      <td>0.21</td>\n",
       "      <td>0.01</td>\n",
       "      <td>0.02</td>\n",
       "      <td>0.03</td>\n",
       "      <td>0.51</td>\n",
       "      <td>-0.00</td>\n",
       "      <td>0.50</td>\n",
       "      <td>...</td>\n",
       "      <td>0.00</td>\n",
       "      <td>0.05</td>\n",
       "      <td>0.04</td>\n",
       "      <td>0.68</td>\n",
       "      <td>-0.02</td>\n",
       "      <td>-0.02</td>\n",
       "      <td>0.31</td>\n",
       "      <td>0.21</td>\n",
       "      <td>0.22</td>\n",
       "      <td>0.20</td>\n",
       "    </tr>\n",
       "    <tr>\n",
       "      <th>DailyRate</th>\n",
       "      <td>0.01</td>\n",
       "      <td>1.00</td>\n",
       "      <td>-0.00</td>\n",
       "      <td>-0.02</td>\n",
       "      <td>0.02</td>\n",
       "      <td>0.02</td>\n",
       "      <td>0.05</td>\n",
       "      <td>0.00</td>\n",
       "      <td>0.03</td>\n",
       "      <td>0.01</td>\n",
       "      <td>...</td>\n",
       "      <td>0.00</td>\n",
       "      <td>0.01</td>\n",
       "      <td>0.04</td>\n",
       "      <td>0.01</td>\n",
       "      <td>0.00</td>\n",
       "      <td>-0.04</td>\n",
       "      <td>-0.03</td>\n",
       "      <td>0.01</td>\n",
       "      <td>-0.03</td>\n",
       "      <td>-0.03</td>\n",
       "    </tr>\n",
       "    <tr>\n",
       "      <th>DistanceFromHome</th>\n",
       "      <td>-0.00</td>\n",
       "      <td>-0.00</td>\n",
       "      <td>1.00</td>\n",
       "      <td>0.02</td>\n",
       "      <td>-0.02</td>\n",
       "      <td>0.03</td>\n",
       "      <td>0.01</td>\n",
       "      <td>0.01</td>\n",
       "      <td>-0.00</td>\n",
       "      <td>-0.02</td>\n",
       "      <td>...</td>\n",
       "      <td>0.03</td>\n",
       "      <td>0.01</td>\n",
       "      <td>0.04</td>\n",
       "      <td>0.00</td>\n",
       "      <td>-0.04</td>\n",
       "      <td>-0.03</td>\n",
       "      <td>0.01</td>\n",
       "      <td>0.02</td>\n",
       "      <td>0.01</td>\n",
       "      <td>0.01</td>\n",
       "    </tr>\n",
       "    <tr>\n",
       "      <th>Education</th>\n",
       "      <td>0.21</td>\n",
       "      <td>-0.02</td>\n",
       "      <td>0.02</td>\n",
       "      <td>1.00</td>\n",
       "      <td>-0.03</td>\n",
       "      <td>0.02</td>\n",
       "      <td>0.04</td>\n",
       "      <td>0.10</td>\n",
       "      <td>-0.01</td>\n",
       "      <td>0.09</td>\n",
       "      <td>...</td>\n",
       "      <td>-0.02</td>\n",
       "      <td>-0.01</td>\n",
       "      <td>0.02</td>\n",
       "      <td>0.15</td>\n",
       "      <td>-0.03</td>\n",
       "      <td>0.01</td>\n",
       "      <td>0.07</td>\n",
       "      <td>0.06</td>\n",
       "      <td>0.05</td>\n",
       "      <td>0.07</td>\n",
       "    </tr>\n",
       "    <tr>\n",
       "      <th>EnvironmentSatisfaction</th>\n",
       "      <td>0.01</td>\n",
       "      <td>0.02</td>\n",
       "      <td>-0.02</td>\n",
       "      <td>-0.03</td>\n",
       "      <td>1.00</td>\n",
       "      <td>-0.05</td>\n",
       "      <td>-0.01</td>\n",
       "      <td>0.00</td>\n",
       "      <td>-0.01</td>\n",
       "      <td>-0.01</td>\n",
       "      <td>...</td>\n",
       "      <td>-0.03</td>\n",
       "      <td>0.01</td>\n",
       "      <td>0.00</td>\n",
       "      <td>-0.00</td>\n",
       "      <td>-0.02</td>\n",
       "      <td>0.03</td>\n",
       "      <td>0.00</td>\n",
       "      <td>0.02</td>\n",
       "      <td>0.02</td>\n",
       "      <td>-0.00</td>\n",
       "    </tr>\n",
       "    <tr>\n",
       "      <th>HourlyRate</th>\n",
       "      <td>0.02</td>\n",
       "      <td>0.02</td>\n",
       "      <td>0.03</td>\n",
       "      <td>0.02</td>\n",
       "      <td>-0.05</td>\n",
       "      <td>1.00</td>\n",
       "      <td>0.04</td>\n",
       "      <td>-0.03</td>\n",
       "      <td>-0.07</td>\n",
       "      <td>-0.02</td>\n",
       "      <td>...</td>\n",
       "      <td>-0.00</td>\n",
       "      <td>0.00</td>\n",
       "      <td>0.05</td>\n",
       "      <td>-0.00</td>\n",
       "      <td>-0.01</td>\n",
       "      <td>-0.00</td>\n",
       "      <td>-0.02</td>\n",
       "      <td>-0.02</td>\n",
       "      <td>-0.03</td>\n",
       "      <td>-0.02</td>\n",
       "    </tr>\n",
       "    <tr>\n",
       "      <th>JobInvolvement</th>\n",
       "      <td>0.03</td>\n",
       "      <td>0.05</td>\n",
       "      <td>0.01</td>\n",
       "      <td>0.04</td>\n",
       "      <td>-0.01</td>\n",
       "      <td>0.04</td>\n",
       "      <td>1.00</td>\n",
       "      <td>-0.01</td>\n",
       "      <td>-0.02</td>\n",
       "      <td>-0.02</td>\n",
       "      <td>...</td>\n",
       "      <td>-0.03</td>\n",
       "      <td>0.03</td>\n",
       "      <td>0.02</td>\n",
       "      <td>-0.01</td>\n",
       "      <td>-0.02</td>\n",
       "      <td>-0.01</td>\n",
       "      <td>-0.02</td>\n",
       "      <td>0.01</td>\n",
       "      <td>-0.02</td>\n",
       "      <td>0.03</td>\n",
       "    </tr>\n",
       "    <tr>\n",
       "      <th>JobLevel</th>\n",
       "      <td>0.51</td>\n",
       "      <td>0.00</td>\n",
       "      <td>0.01</td>\n",
       "      <td>0.10</td>\n",
       "      <td>0.00</td>\n",
       "      <td>-0.03</td>\n",
       "      <td>-0.01</td>\n",
       "      <td>1.00</td>\n",
       "      <td>-0.00</td>\n",
       "      <td>0.95</td>\n",
       "      <td>...</td>\n",
       "      <td>-0.02</td>\n",
       "      <td>0.02</td>\n",
       "      <td>0.01</td>\n",
       "      <td>0.78</td>\n",
       "      <td>-0.02</td>\n",
       "      <td>0.04</td>\n",
       "      <td>0.53</td>\n",
       "      <td>0.39</td>\n",
       "      <td>0.35</td>\n",
       "      <td>0.38</td>\n",
       "    </tr>\n",
       "    <tr>\n",
       "      <th>JobSatisfaction</th>\n",
       "      <td>-0.00</td>\n",
       "      <td>0.03</td>\n",
       "      <td>-0.00</td>\n",
       "      <td>-0.01</td>\n",
       "      <td>-0.01</td>\n",
       "      <td>-0.07</td>\n",
       "      <td>-0.02</td>\n",
       "      <td>-0.00</td>\n",
       "      <td>1.00</td>\n",
       "      <td>-0.01</td>\n",
       "      <td>...</td>\n",
       "      <td>0.00</td>\n",
       "      <td>-0.01</td>\n",
       "      <td>0.01</td>\n",
       "      <td>-0.02</td>\n",
       "      <td>-0.01</td>\n",
       "      <td>-0.02</td>\n",
       "      <td>-0.00</td>\n",
       "      <td>-0.00</td>\n",
       "      <td>-0.02</td>\n",
       "      <td>-0.03</td>\n",
       "    </tr>\n",
       "    <tr>\n",
       "      <th>MonthlyIncome</th>\n",
       "      <td>0.50</td>\n",
       "      <td>0.01</td>\n",
       "      <td>-0.02</td>\n",
       "      <td>0.09</td>\n",
       "      <td>-0.01</td>\n",
       "      <td>-0.02</td>\n",
       "      <td>-0.02</td>\n",
       "      <td>0.95</td>\n",
       "      <td>-0.01</td>\n",
       "      <td>1.00</td>\n",
       "      <td>...</td>\n",
       "      <td>-0.02</td>\n",
       "      <td>0.03</td>\n",
       "      <td>0.01</td>\n",
       "      <td>0.77</td>\n",
       "      <td>-0.02</td>\n",
       "      <td>0.03</td>\n",
       "      <td>0.51</td>\n",
       "      <td>0.36</td>\n",
       "      <td>0.34</td>\n",
       "      <td>0.34</td>\n",
       "    </tr>\n",
       "    <tr>\n",
       "      <th>MonthlyRate</th>\n",
       "      <td>0.03</td>\n",
       "      <td>-0.03</td>\n",
       "      <td>0.03</td>\n",
       "      <td>-0.03</td>\n",
       "      <td>0.04</td>\n",
       "      <td>-0.02</td>\n",
       "      <td>-0.02</td>\n",
       "      <td>0.04</td>\n",
       "      <td>0.00</td>\n",
       "      <td>0.03</td>\n",
       "      <td>...</td>\n",
       "      <td>-0.01</td>\n",
       "      <td>-0.00</td>\n",
       "      <td>-0.03</td>\n",
       "      <td>0.03</td>\n",
       "      <td>0.00</td>\n",
       "      <td>0.01</td>\n",
       "      <td>-0.02</td>\n",
       "      <td>-0.01</td>\n",
       "      <td>0.00</td>\n",
       "      <td>-0.04</td>\n",
       "    </tr>\n",
       "    <tr>\n",
       "      <th>NumCompaniesWorked</th>\n",
       "      <td>0.30</td>\n",
       "      <td>0.04</td>\n",
       "      <td>-0.03</td>\n",
       "      <td>0.13</td>\n",
       "      <td>0.01</td>\n",
       "      <td>0.02</td>\n",
       "      <td>0.02</td>\n",
       "      <td>0.14</td>\n",
       "      <td>-0.06</td>\n",
       "      <td>0.15</td>\n",
       "      <td>...</td>\n",
       "      <td>-0.01</td>\n",
       "      <td>0.05</td>\n",
       "      <td>0.03</td>\n",
       "      <td>0.24</td>\n",
       "      <td>-0.07</td>\n",
       "      <td>-0.01</td>\n",
       "      <td>-0.12</td>\n",
       "      <td>-0.09</td>\n",
       "      <td>-0.04</td>\n",
       "      <td>-0.11</td>\n",
       "    </tr>\n",
       "    <tr>\n",
       "      <th>PercentSalaryHike</th>\n",
       "      <td>0.00</td>\n",
       "      <td>0.02</td>\n",
       "      <td>0.04</td>\n",
       "      <td>-0.01</td>\n",
       "      <td>-0.03</td>\n",
       "      <td>-0.01</td>\n",
       "      <td>-0.02</td>\n",
       "      <td>-0.03</td>\n",
       "      <td>0.02</td>\n",
       "      <td>-0.03</td>\n",
       "      <td>...</td>\n",
       "      <td>0.77</td>\n",
       "      <td>-0.04</td>\n",
       "      <td>0.01</td>\n",
       "      <td>-0.02</td>\n",
       "      <td>-0.01</td>\n",
       "      <td>-0.00</td>\n",
       "      <td>-0.04</td>\n",
       "      <td>-0.00</td>\n",
       "      <td>-0.02</td>\n",
       "      <td>-0.01</td>\n",
       "    </tr>\n",
       "    <tr>\n",
       "      <th>PerformanceRating</th>\n",
       "      <td>0.00</td>\n",
       "      <td>0.00</td>\n",
       "      <td>0.03</td>\n",
       "      <td>-0.02</td>\n",
       "      <td>-0.03</td>\n",
       "      <td>-0.00</td>\n",
       "      <td>-0.03</td>\n",
       "      <td>-0.02</td>\n",
       "      <td>0.00</td>\n",
       "      <td>-0.02</td>\n",
       "      <td>...</td>\n",
       "      <td>1.00</td>\n",
       "      <td>-0.03</td>\n",
       "      <td>0.00</td>\n",
       "      <td>0.01</td>\n",
       "      <td>-0.02</td>\n",
       "      <td>0.00</td>\n",
       "      <td>0.00</td>\n",
       "      <td>0.03</td>\n",
       "      <td>0.02</td>\n",
       "      <td>0.02</td>\n",
       "    </tr>\n",
       "    <tr>\n",
       "      <th>RelationshipSatisfaction</th>\n",
       "      <td>0.05</td>\n",
       "      <td>0.01</td>\n",
       "      <td>0.01</td>\n",
       "      <td>-0.01</td>\n",
       "      <td>0.01</td>\n",
       "      <td>0.00</td>\n",
       "      <td>0.03</td>\n",
       "      <td>0.02</td>\n",
       "      <td>-0.01</td>\n",
       "      <td>0.03</td>\n",
       "      <td>...</td>\n",
       "      <td>-0.03</td>\n",
       "      <td>1.00</td>\n",
       "      <td>-0.05</td>\n",
       "      <td>0.02</td>\n",
       "      <td>0.00</td>\n",
       "      <td>0.02</td>\n",
       "      <td>0.02</td>\n",
       "      <td>-0.02</td>\n",
       "      <td>0.03</td>\n",
       "      <td>-0.00</td>\n",
       "    </tr>\n",
       "    <tr>\n",
       "      <th>StockOptionLevel</th>\n",
       "      <td>0.04</td>\n",
       "      <td>0.04</td>\n",
       "      <td>0.04</td>\n",
       "      <td>0.02</td>\n",
       "      <td>0.00</td>\n",
       "      <td>0.05</td>\n",
       "      <td>0.02</td>\n",
       "      <td>0.01</td>\n",
       "      <td>0.01</td>\n",
       "      <td>0.01</td>\n",
       "      <td>...</td>\n",
       "      <td>0.00</td>\n",
       "      <td>-0.05</td>\n",
       "      <td>1.00</td>\n",
       "      <td>0.01</td>\n",
       "      <td>0.01</td>\n",
       "      <td>0.00</td>\n",
       "      <td>0.02</td>\n",
       "      <td>0.05</td>\n",
       "      <td>0.01</td>\n",
       "      <td>0.02</td>\n",
       "    </tr>\n",
       "    <tr>\n",
       "      <th>TotalWorkingYears</th>\n",
       "      <td>0.68</td>\n",
       "      <td>0.01</td>\n",
       "      <td>0.00</td>\n",
       "      <td>0.15</td>\n",
       "      <td>-0.00</td>\n",
       "      <td>-0.00</td>\n",
       "      <td>-0.01</td>\n",
       "      <td>0.78</td>\n",
       "      <td>-0.02</td>\n",
       "      <td>0.77</td>\n",
       "      <td>...</td>\n",
       "      <td>0.01</td>\n",
       "      <td>0.02</td>\n",
       "      <td>0.01</td>\n",
       "      <td>1.00</td>\n",
       "      <td>-0.04</td>\n",
       "      <td>0.00</td>\n",
       "      <td>0.63</td>\n",
       "      <td>0.46</td>\n",
       "      <td>0.40</td>\n",
       "      <td>0.46</td>\n",
       "    </tr>\n",
       "    <tr>\n",
       "      <th>TrainingTimesLastYear</th>\n",
       "      <td>-0.02</td>\n",
       "      <td>0.00</td>\n",
       "      <td>-0.04</td>\n",
       "      <td>-0.03</td>\n",
       "      <td>-0.02</td>\n",
       "      <td>-0.01</td>\n",
       "      <td>-0.02</td>\n",
       "      <td>-0.02</td>\n",
       "      <td>-0.01</td>\n",
       "      <td>-0.02</td>\n",
       "      <td>...</td>\n",
       "      <td>-0.02</td>\n",
       "      <td>0.00</td>\n",
       "      <td>0.01</td>\n",
       "      <td>-0.04</td>\n",
       "      <td>1.00</td>\n",
       "      <td>0.03</td>\n",
       "      <td>0.00</td>\n",
       "      <td>-0.01</td>\n",
       "      <td>-0.00</td>\n",
       "      <td>-0.00</td>\n",
       "    </tr>\n",
       "    <tr>\n",
       "      <th>WorkLifeBalance</th>\n",
       "      <td>-0.02</td>\n",
       "      <td>-0.04</td>\n",
       "      <td>-0.03</td>\n",
       "      <td>0.01</td>\n",
       "      <td>0.03</td>\n",
       "      <td>-0.00</td>\n",
       "      <td>-0.01</td>\n",
       "      <td>0.04</td>\n",
       "      <td>-0.02</td>\n",
       "      <td>0.03</td>\n",
       "      <td>...</td>\n",
       "      <td>0.00</td>\n",
       "      <td>0.02</td>\n",
       "      <td>0.00</td>\n",
       "      <td>0.00</td>\n",
       "      <td>0.03</td>\n",
       "      <td>1.00</td>\n",
       "      <td>0.01</td>\n",
       "      <td>0.05</td>\n",
       "      <td>0.01</td>\n",
       "      <td>0.00</td>\n",
       "    </tr>\n",
       "    <tr>\n",
       "      <th>YearsAtCompany</th>\n",
       "      <td>0.31</td>\n",
       "      <td>-0.03</td>\n",
       "      <td>0.01</td>\n",
       "      <td>0.07</td>\n",
       "      <td>0.00</td>\n",
       "      <td>-0.02</td>\n",
       "      <td>-0.02</td>\n",
       "      <td>0.53</td>\n",
       "      <td>-0.00</td>\n",
       "      <td>0.51</td>\n",
       "      <td>...</td>\n",
       "      <td>0.00</td>\n",
       "      <td>0.02</td>\n",
       "      <td>0.02</td>\n",
       "      <td>0.63</td>\n",
       "      <td>0.00</td>\n",
       "      <td>0.01</td>\n",
       "      <td>1.00</td>\n",
       "      <td>0.76</td>\n",
       "      <td>0.62</td>\n",
       "      <td>0.77</td>\n",
       "    </tr>\n",
       "    <tr>\n",
       "      <th>YearsInCurrentRole</th>\n",
       "      <td>0.21</td>\n",
       "      <td>0.01</td>\n",
       "      <td>0.02</td>\n",
       "      <td>0.06</td>\n",
       "      <td>0.02</td>\n",
       "      <td>-0.02</td>\n",
       "      <td>0.01</td>\n",
       "      <td>0.39</td>\n",
       "      <td>-0.00</td>\n",
       "      <td>0.36</td>\n",
       "      <td>...</td>\n",
       "      <td>0.03</td>\n",
       "      <td>-0.02</td>\n",
       "      <td>0.05</td>\n",
       "      <td>0.46</td>\n",
       "      <td>-0.01</td>\n",
       "      <td>0.05</td>\n",
       "      <td>0.76</td>\n",
       "      <td>1.00</td>\n",
       "      <td>0.55</td>\n",
       "      <td>0.71</td>\n",
       "    </tr>\n",
       "    <tr>\n",
       "      <th>YearsSinceLastPromotion</th>\n",
       "      <td>0.22</td>\n",
       "      <td>-0.03</td>\n",
       "      <td>0.01</td>\n",
       "      <td>0.05</td>\n",
       "      <td>0.02</td>\n",
       "      <td>-0.03</td>\n",
       "      <td>-0.02</td>\n",
       "      <td>0.35</td>\n",
       "      <td>-0.02</td>\n",
       "      <td>0.34</td>\n",
       "      <td>...</td>\n",
       "      <td>0.02</td>\n",
       "      <td>0.03</td>\n",
       "      <td>0.01</td>\n",
       "      <td>0.40</td>\n",
       "      <td>-0.00</td>\n",
       "      <td>0.01</td>\n",
       "      <td>0.62</td>\n",
       "      <td>0.55</td>\n",
       "      <td>1.00</td>\n",
       "      <td>0.51</td>\n",
       "    </tr>\n",
       "    <tr>\n",
       "      <th>YearsWithCurrManager</th>\n",
       "      <td>0.20</td>\n",
       "      <td>-0.03</td>\n",
       "      <td>0.01</td>\n",
       "      <td>0.07</td>\n",
       "      <td>-0.00</td>\n",
       "      <td>-0.02</td>\n",
       "      <td>0.03</td>\n",
       "      <td>0.38</td>\n",
       "      <td>-0.03</td>\n",
       "      <td>0.34</td>\n",
       "      <td>...</td>\n",
       "      <td>0.02</td>\n",
       "      <td>-0.00</td>\n",
       "      <td>0.02</td>\n",
       "      <td>0.46</td>\n",
       "      <td>-0.00</td>\n",
       "      <td>0.00</td>\n",
       "      <td>0.77</td>\n",
       "      <td>0.71</td>\n",
       "      <td>0.51</td>\n",
       "      <td>1.00</td>\n",
       "    </tr>\n",
       "  </tbody>\n",
       "</table>\n",
       "<p>23 rows × 23 columns</p>\n",
       "</div>"
      ],
      "text/plain": [
       "                           Age  DailyRate  DistanceFromHome  Education  \\\n",
       "Age                       1.00       0.01             -0.00       0.21   \n",
       "DailyRate                 0.01       1.00             -0.00      -0.02   \n",
       "DistanceFromHome         -0.00      -0.00              1.00       0.02   \n",
       "Education                 0.21      -0.02              0.02       1.00   \n",
       "EnvironmentSatisfaction   0.01       0.02             -0.02      -0.03   \n",
       "HourlyRate                0.02       0.02              0.03       0.02   \n",
       "JobInvolvement            0.03       0.05              0.01       0.04   \n",
       "JobLevel                  0.51       0.00              0.01       0.10   \n",
       "JobSatisfaction          -0.00       0.03             -0.00      -0.01   \n",
       "MonthlyIncome             0.50       0.01             -0.02       0.09   \n",
       "MonthlyRate               0.03      -0.03              0.03      -0.03   \n",
       "NumCompaniesWorked        0.30       0.04             -0.03       0.13   \n",
       "PercentSalaryHike         0.00       0.02              0.04      -0.01   \n",
       "PerformanceRating         0.00       0.00              0.03      -0.02   \n",
       "RelationshipSatisfaction  0.05       0.01              0.01      -0.01   \n",
       "StockOptionLevel          0.04       0.04              0.04       0.02   \n",
       "TotalWorkingYears         0.68       0.01              0.00       0.15   \n",
       "TrainingTimesLastYear    -0.02       0.00             -0.04      -0.03   \n",
       "WorkLifeBalance          -0.02      -0.04             -0.03       0.01   \n",
       "YearsAtCompany            0.31      -0.03              0.01       0.07   \n",
       "YearsInCurrentRole        0.21       0.01              0.02       0.06   \n",
       "YearsSinceLastPromotion   0.22      -0.03              0.01       0.05   \n",
       "YearsWithCurrManager      0.20      -0.03              0.01       0.07   \n",
       "\n",
       "                          EnvironmentSatisfaction  HourlyRate  JobInvolvement  \\\n",
       "Age                                          0.01        0.02            0.03   \n",
       "DailyRate                                    0.02        0.02            0.05   \n",
       "DistanceFromHome                            -0.02        0.03            0.01   \n",
       "Education                                   -0.03        0.02            0.04   \n",
       "EnvironmentSatisfaction                      1.00       -0.05           -0.01   \n",
       "HourlyRate                                  -0.05        1.00            0.04   \n",
       "JobInvolvement                              -0.01        0.04            1.00   \n",
       "JobLevel                                     0.00       -0.03           -0.01   \n",
       "JobSatisfaction                             -0.01       -0.07           -0.02   \n",
       "MonthlyIncome                               -0.01       -0.02           -0.02   \n",
       "MonthlyRate                                  0.04       -0.02           -0.02   \n",
       "NumCompaniesWorked                           0.01        0.02            0.02   \n",
       "PercentSalaryHike                           -0.03       -0.01           -0.02   \n",
       "PerformanceRating                           -0.03       -0.00           -0.03   \n",
       "RelationshipSatisfaction                     0.01        0.00            0.03   \n",
       "StockOptionLevel                             0.00        0.05            0.02   \n",
       "TotalWorkingYears                           -0.00       -0.00           -0.01   \n",
       "TrainingTimesLastYear                       -0.02       -0.01           -0.02   \n",
       "WorkLifeBalance                              0.03       -0.00           -0.01   \n",
       "YearsAtCompany                               0.00       -0.02           -0.02   \n",
       "YearsInCurrentRole                           0.02       -0.02            0.01   \n",
       "YearsSinceLastPromotion                      0.02       -0.03           -0.02   \n",
       "YearsWithCurrManager                        -0.00       -0.02            0.03   \n",
       "\n",
       "                          JobLevel  JobSatisfaction  MonthlyIncome  ...  \\\n",
       "Age                           0.51            -0.00           0.50  ...   \n",
       "DailyRate                     0.00             0.03           0.01  ...   \n",
       "DistanceFromHome              0.01            -0.00          -0.02  ...   \n",
       "Education                     0.10            -0.01           0.09  ...   \n",
       "EnvironmentSatisfaction       0.00            -0.01          -0.01  ...   \n",
       "HourlyRate                   -0.03            -0.07          -0.02  ...   \n",
       "JobInvolvement               -0.01            -0.02          -0.02  ...   \n",
       "JobLevel                      1.00            -0.00           0.95  ...   \n",
       "JobSatisfaction              -0.00             1.00          -0.01  ...   \n",
       "MonthlyIncome                 0.95            -0.01           1.00  ...   \n",
       "MonthlyRate                   0.04             0.00           0.03  ...   \n",
       "NumCompaniesWorked            0.14            -0.06           0.15  ...   \n",
       "PercentSalaryHike            -0.03             0.02          -0.03  ...   \n",
       "PerformanceRating            -0.02             0.00          -0.02  ...   \n",
       "RelationshipSatisfaction      0.02            -0.01           0.03  ...   \n",
       "StockOptionLevel              0.01             0.01           0.01  ...   \n",
       "TotalWorkingYears             0.78            -0.02           0.77  ...   \n",
       "TrainingTimesLastYear        -0.02            -0.01          -0.02  ...   \n",
       "WorkLifeBalance               0.04            -0.02           0.03  ...   \n",
       "YearsAtCompany                0.53            -0.00           0.51  ...   \n",
       "YearsInCurrentRole            0.39            -0.00           0.36  ...   \n",
       "YearsSinceLastPromotion       0.35            -0.02           0.34  ...   \n",
       "YearsWithCurrManager          0.38            -0.03           0.34  ...   \n",
       "\n",
       "                          PerformanceRating  RelationshipSatisfaction  \\\n",
       "Age                                    0.00                      0.05   \n",
       "DailyRate                              0.00                      0.01   \n",
       "DistanceFromHome                       0.03                      0.01   \n",
       "Education                             -0.02                     -0.01   \n",
       "EnvironmentSatisfaction               -0.03                      0.01   \n",
       "HourlyRate                            -0.00                      0.00   \n",
       "JobInvolvement                        -0.03                      0.03   \n",
       "JobLevel                              -0.02                      0.02   \n",
       "JobSatisfaction                        0.00                     -0.01   \n",
       "MonthlyIncome                         -0.02                      0.03   \n",
       "MonthlyRate                           -0.01                     -0.00   \n",
       "NumCompaniesWorked                    -0.01                      0.05   \n",
       "PercentSalaryHike                      0.77                     -0.04   \n",
       "PerformanceRating                      1.00                     -0.03   \n",
       "RelationshipSatisfaction              -0.03                      1.00   \n",
       "StockOptionLevel                       0.00                     -0.05   \n",
       "TotalWorkingYears                      0.01                      0.02   \n",
       "TrainingTimesLastYear                 -0.02                      0.00   \n",
       "WorkLifeBalance                        0.00                      0.02   \n",
       "YearsAtCompany                         0.00                      0.02   \n",
       "YearsInCurrentRole                     0.03                     -0.02   \n",
       "YearsSinceLastPromotion                0.02                      0.03   \n",
       "YearsWithCurrManager                   0.02                     -0.00   \n",
       "\n",
       "                          StockOptionLevel  TotalWorkingYears  \\\n",
       "Age                                   0.04               0.68   \n",
       "DailyRate                             0.04               0.01   \n",
       "DistanceFromHome                      0.04               0.00   \n",
       "Education                             0.02               0.15   \n",
       "EnvironmentSatisfaction               0.00              -0.00   \n",
       "HourlyRate                            0.05              -0.00   \n",
       "JobInvolvement                        0.02              -0.01   \n",
       "JobLevel                              0.01               0.78   \n",
       "JobSatisfaction                       0.01              -0.02   \n",
       "MonthlyIncome                         0.01               0.77   \n",
       "MonthlyRate                          -0.03               0.03   \n",
       "NumCompaniesWorked                    0.03               0.24   \n",
       "PercentSalaryHike                     0.01              -0.02   \n",
       "PerformanceRating                     0.00               0.01   \n",
       "RelationshipSatisfaction             -0.05               0.02   \n",
       "StockOptionLevel                      1.00               0.01   \n",
       "TotalWorkingYears                     0.01               1.00   \n",
       "TrainingTimesLastYear                 0.01              -0.04   \n",
       "WorkLifeBalance                       0.00               0.00   \n",
       "YearsAtCompany                        0.02               0.63   \n",
       "YearsInCurrentRole                    0.05               0.46   \n",
       "YearsSinceLastPromotion               0.01               0.40   \n",
       "YearsWithCurrManager                  0.02               0.46   \n",
       "\n",
       "                          TrainingTimesLastYear  WorkLifeBalance  \\\n",
       "Age                                       -0.02            -0.02   \n",
       "DailyRate                                  0.00            -0.04   \n",
       "DistanceFromHome                          -0.04            -0.03   \n",
       "Education                                 -0.03             0.01   \n",
       "EnvironmentSatisfaction                   -0.02             0.03   \n",
       "HourlyRate                                -0.01            -0.00   \n",
       "JobInvolvement                            -0.02            -0.01   \n",
       "JobLevel                                  -0.02             0.04   \n",
       "JobSatisfaction                           -0.01            -0.02   \n",
       "MonthlyIncome                             -0.02             0.03   \n",
       "MonthlyRate                                0.00             0.01   \n",
       "NumCompaniesWorked                        -0.07            -0.01   \n",
       "PercentSalaryHike                         -0.01            -0.00   \n",
       "PerformanceRating                         -0.02             0.00   \n",
       "RelationshipSatisfaction                   0.00             0.02   \n",
       "StockOptionLevel                           0.01             0.00   \n",
       "TotalWorkingYears                         -0.04             0.00   \n",
       "TrainingTimesLastYear                      1.00             0.03   \n",
       "WorkLifeBalance                            0.03             1.00   \n",
       "YearsAtCompany                             0.00             0.01   \n",
       "YearsInCurrentRole                        -0.01             0.05   \n",
       "YearsSinceLastPromotion                   -0.00             0.01   \n",
       "YearsWithCurrManager                      -0.00             0.00   \n",
       "\n",
       "                          YearsAtCompany  YearsInCurrentRole  \\\n",
       "Age                                 0.31                0.21   \n",
       "DailyRate                          -0.03                0.01   \n",
       "DistanceFromHome                    0.01                0.02   \n",
       "Education                           0.07                0.06   \n",
       "EnvironmentSatisfaction             0.00                0.02   \n",
       "HourlyRate                         -0.02               -0.02   \n",
       "JobInvolvement                     -0.02                0.01   \n",
       "JobLevel                            0.53                0.39   \n",
       "JobSatisfaction                    -0.00               -0.00   \n",
       "MonthlyIncome                       0.51                0.36   \n",
       "MonthlyRate                        -0.02               -0.01   \n",
       "NumCompaniesWorked                 -0.12               -0.09   \n",
       "PercentSalaryHike                  -0.04               -0.00   \n",
       "PerformanceRating                   0.00                0.03   \n",
       "RelationshipSatisfaction            0.02               -0.02   \n",
       "StockOptionLevel                    0.02                0.05   \n",
       "TotalWorkingYears                   0.63                0.46   \n",
       "TrainingTimesLastYear               0.00               -0.01   \n",
       "WorkLifeBalance                     0.01                0.05   \n",
       "YearsAtCompany                      1.00                0.76   \n",
       "YearsInCurrentRole                  0.76                1.00   \n",
       "YearsSinceLastPromotion             0.62                0.55   \n",
       "YearsWithCurrManager                0.77                0.71   \n",
       "\n",
       "                          YearsSinceLastPromotion  YearsWithCurrManager  \n",
       "Age                                          0.22                  0.20  \n",
       "DailyRate                                   -0.03                 -0.03  \n",
       "DistanceFromHome                             0.01                  0.01  \n",
       "Education                                    0.05                  0.07  \n",
       "EnvironmentSatisfaction                      0.02                 -0.00  \n",
       "HourlyRate                                  -0.03                 -0.02  \n",
       "JobInvolvement                              -0.02                  0.03  \n",
       "JobLevel                                     0.35                  0.38  \n",
       "JobSatisfaction                             -0.02                 -0.03  \n",
       "MonthlyIncome                                0.34                  0.34  \n",
       "MonthlyRate                                  0.00                 -0.04  \n",
       "NumCompaniesWorked                          -0.04                 -0.11  \n",
       "PercentSalaryHike                           -0.02                 -0.01  \n",
       "PerformanceRating                            0.02                  0.02  \n",
       "RelationshipSatisfaction                     0.03                 -0.00  \n",
       "StockOptionLevel                             0.01                  0.02  \n",
       "TotalWorkingYears                            0.40                  0.46  \n",
       "TrainingTimesLastYear                       -0.00                 -0.00  \n",
       "WorkLifeBalance                              0.01                  0.00  \n",
       "YearsAtCompany                               0.62                  0.77  \n",
       "YearsInCurrentRole                           0.55                  0.71  \n",
       "YearsSinceLastPromotion                      1.00                  0.51  \n",
       "YearsWithCurrManager                         0.51                  1.00  \n",
       "\n",
       "[23 rows x 23 columns]"
      ]
     },
     "execution_count": 11,
     "metadata": {},
     "output_type": "execute_result"
    }
   ],
   "source": [
    "np.round(df.corr(),2)"
   ]
  },
  {
   "cell_type": "markdown",
   "id": "5bb4a2cd",
   "metadata": {},
   "source": [
    "**Data preprocessing**"
   ]
  },
  {
   "cell_type": "code",
   "execution_count": 12,
   "id": "5216380e",
   "metadata": {},
   "outputs": [
    {
     "data": {
      "text/plain": [
       "No     1233\n",
       "Yes     237\n",
       "Name: Attrition, dtype: int64"
      ]
     },
     "execution_count": 12,
     "metadata": {},
     "output_type": "execute_result"
    }
   ],
   "source": [
    "df['Attrition'].value_counts()"
   ]
  },
  {
   "cell_type": "code",
   "execution_count": 13,
   "id": "f81a8d41",
   "metadata": {},
   "outputs": [
    {
     "data": {
      "text/plain": [
       "No     0.838776\n",
       "Yes    0.161224\n",
       "Name: Attrition, dtype: float64"
      ]
     },
     "execution_count": 13,
     "metadata": {},
     "output_type": "execute_result"
    }
   ],
   "source": [
    "df['Attrition'].value_counts(normalize=True)"
   ]
  },
  {
   "cell_type": "code",
   "execution_count": 14,
   "id": "b5cfdc05",
   "metadata": {
    "scrolled": true
   },
   "outputs": [
    {
     "data": {
      "image/png": "[encoded data removed]",
      "text/plain": [
       "<Figure size 432x288 with 1 Axes>"
      ]
     },
     "metadata": {},
     "output_type": "display_data"
    }
   ],
   "source": [
    "r = df.groupby('Attrition')['Attrition'].count()\n",
    "plt.pie(r, explode=[0.05, 0.1], labels=['No', 'Yes'], radius=1, autopct='%1.1f%%',  shadow=True, startangle=90);"
   ]
  },
  {
   "cell_type": "markdown",
   "id": "d9d611e5",
   "metadata": {},
   "source": [
    "**Use labelencoder to transform catogory data**"
   ]
  },
  {
   "cell_type": "code",
   "execution_count": 15,
   "id": "e9c51b10",
   "metadata": {},
   "outputs": [],
   "source": [
    "from sklearn.preprocessing import LabelEncoder,MinMaxScaler\n",
    "le = LabelEncoder()\n",
    "for cat in categorical_columns:\n",
    "    df[cat]=le.fit_transform(df[cat])"
   ]
  },
  {
   "cell_type": "markdown",
   "id": "a95309c7",
   "metadata": {},
   "source": [
    "**Rescale numeric data**"
   ]
  },
  {
   "cell_type": "code",
   "execution_count": 16,
   "id": "4d47241c",
   "metadata": {},
   "outputs": [],
   "source": [
    "MMS = MinMaxScaler()\n",
    "df[numerical_columns] = MMS.fit_transform(df[numerical_columns])"
   ]
  },
  {
   "cell_type": "code",
   "execution_count": 17,
   "id": "8e7ac855-58af-43d5-87ae-bad8ba7409db",
   "metadata": {},
   "outputs": [],
   "source": [
    "df2 = df.copy()"
   ]
  },
  {
   "cell_type": "code",
   "execution_count": 18,
   "id": "0647d106-7544-4a40-9e76-b875631ac07e",
   "metadata": {},
   "outputs": [],
   "source": [
    "business = pd.get_dummies(df2.BusinessTravel, prefix='BusinessTravel')\n"
   ]
  },
  {
   "cell_type": "code",
   "execution_count": 19,
   "id": "3a0215f3-09eb-4987-9a77-6c68a7ffc2d1",
   "metadata": {},
   "outputs": [],
   "source": [
    "df2 = df2.join(business)\n",
    "df2.drop(['BusinessTravel'], axis=1, inplace=True)"
   ]
  },
  {
   "cell_type": "code",
   "execution_count": 20,
   "id": "5cf80033-0dfb-4247-aeb0-75b5a8634b3c",
   "metadata": {},
   "outputs": [],
   "source": [
    "department = pd.get_dummies(df2.Department, prefix='Department')\n",
    "df2 = df2.join(department)\n",
    "df2.drop(['Department'], axis=1, inplace=True)"
   ]
  },
  {
   "cell_type": "code",
   "execution_count": 21,
   "id": "d10ef0db-9598-4bb0-9b24-1f04de0481ca",
   "metadata": {},
   "outputs": [],
   "source": [
    "education = pd.get_dummies(df2.EducationField, prefix='EducationField')\n",
    "df2 = df2.join(education)\n",
    "df2.drop(['EducationField'], axis=1, inplace=True)"
   ]
  },
  {
   "cell_type": "code",
   "execution_count": 22,
   "id": "f0e81d28-8e0d-4e81-8285-9e63621246eb",
   "metadata": {},
   "outputs": [],
   "source": [
    "job = pd.get_dummies(df2.JobRole, prefix='JobRole')\n",
    "df2 = df2.join(job)\n",
    "df2.drop(['JobRole'], axis=1, inplace=True)"
   ]
  },
  {
   "cell_type": "code",
   "execution_count": 23,
   "id": "c4287641-840e-4ddd-9551-e9d601893bb0",
   "metadata": {},
   "outputs": [],
   "source": [
    "marital = pd.get_dummies(df2.MaritalStatus, prefix='MaritalStatus')\n",
    "df2 = df2.join(marital)\n",
    "df2.drop(['MaritalStatus'], axis=1, inplace=True)"
   ]
  },
  {
   "cell_type": "code",
   "execution_count": 24,
   "id": "c2698f86-b7b0-44d1-be5e-b9499af9cddc",
   "metadata": {},
   "outputs": [],
   "source": [
    "y = df2.Attrition.copy()"
   ]
  },
  {
   "cell_type": "code",
   "execution_count": 25,
   "id": "f46d80fd-3d65-4eba-839f-1575ff3ae303",
   "metadata": {},
   "outputs": [],
   "source": [
    "X = df2.copy()"
   ]
  },
  {
   "cell_type": "code",
   "execution_count": 26,
   "id": "d439c58d-3c44-4d13-b9f0-992d318ea539",
   "metadata": {},
   "outputs": [],
   "source": [
    "X = X.drop(['Attrition'], axis=1)"
   ]
  },
  {
   "cell_type": "code",
   "execution_count": 27,
   "id": "5bd401e4-6ad0-4b4e-89f2-6a86ade1b17d",
   "metadata": {},
   "outputs": [],
   "source": [
    "X_train, X_test, y_train, y_test = train_test_split(X, y, test_size=0.25, random_state=123)"
   ]
  },
  {
   "cell_type": "code",
   "execution_count": 28,
   "id": "408c32c8-6148-4bfe-b3c0-ed6deedc546b",
   "metadata": {},
   "outputs": [
    {
     "data": {
      "text/html": [
       "<div>\n",
       "<style scoped>\n",
       "    .dataframe tbody tr th:only-of-type {\n",
       "        vertical-align: middle;\n",
       "    }\n",
       "\n",
       "    .dataframe tbody tr th {\n",
       "        vertical-align: top;\n",
       "    }\n",
       "\n",
       "    .dataframe thead th {\n",
       "        text-align: right;\n",
       "    }\n",
       "</style>\n",
       "<table border=\"1\" class=\"dataframe\">\n",
       "  <thead>\n",
       "    <tr style=\"text-align: right;\">\n",
       "      <th></th>\n",
       "      <th>True</th>\n",
       "      <th>Prediction</th>\n",
       "    </tr>\n",
       "  </thead>\n",
       "  <tbody>\n",
       "    <tr>\n",
       "      <th>0</th>\n",
       "      <td>1</td>\n",
       "      <td>1</td>\n",
       "    </tr>\n",
       "    <tr>\n",
       "      <th>1</th>\n",
       "      <td>0</td>\n",
       "      <td>0</td>\n",
       "    </tr>\n",
       "    <tr>\n",
       "      <th>2</th>\n",
       "      <td>0</td>\n",
       "      <td>0</td>\n",
       "    </tr>\n",
       "    <tr>\n",
       "      <th>3</th>\n",
       "      <td>0</td>\n",
       "      <td>0</td>\n",
       "    </tr>\n",
       "    <tr>\n",
       "      <th>4</th>\n",
       "      <td>0</td>\n",
       "      <td>0</td>\n",
       "    </tr>\n",
       "    <tr>\n",
       "      <th>...</th>\n",
       "      <td>...</td>\n",
       "      <td>...</td>\n",
       "    </tr>\n",
       "    <tr>\n",
       "      <th>363</th>\n",
       "      <td>1</td>\n",
       "      <td>1</td>\n",
       "    </tr>\n",
       "    <tr>\n",
       "      <th>364</th>\n",
       "      <td>0</td>\n",
       "      <td>0</td>\n",
       "    </tr>\n",
       "    <tr>\n",
       "      <th>365</th>\n",
       "      <td>0</td>\n",
       "      <td>0</td>\n",
       "    </tr>\n",
       "    <tr>\n",
       "      <th>366</th>\n",
       "      <td>0</td>\n",
       "      <td>0</td>\n",
       "    </tr>\n",
       "    <tr>\n",
       "      <th>367</th>\n",
       "      <td>0</td>\n",
       "      <td>0</td>\n",
       "    </tr>\n",
       "  </tbody>\n",
       "</table>\n",
       "<p>368 rows × 2 columns</p>\n",
       "</div>"
      ],
      "text/plain": [
       "     True  Prediction\n",
       "0       1           1\n",
       "1       0           0\n",
       "2       0           0\n",
       "3       0           0\n",
       "4       0           0\n",
       "..    ...         ...\n",
       "363     1           1\n",
       "364     0           0\n",
       "365     0           0\n",
       "366     0           0\n",
       "367     0           0\n",
       "\n",
       "[368 rows x 2 columns]"
      ]
     },
     "execution_count": 28,
     "metadata": {},
     "output_type": "execute_result"
    }
   ],
   "source": [
    "model = LogisticRegression()\n",
    "model.fit(X_train, y_train)\n",
    "\n",
    "y_pred = pd.Series(model.predict(X_test))\n",
    "\n",
    "y_test = y_test.reset_index(drop=True)\n",
    "z = pd.concat([y_test, y_pred], axis=1)\n",
    "z.columns = ['True', 'Prediction']\n",
    "z"
   ]
  },
  {
   "cell_type": "code",
   "execution_count": 29,
   "id": "6e021ebc-526c-43c7-85f7-060dd2d0ab49",
   "metadata": {},
   "outputs": [
    {
     "name": "stdout",
     "output_type": "stream",
     "text": [
      "Accuracy: 0.9130434782608695\n",
      "Precision: 0.75\n",
      "Recall: 0.5\n"
     ]
    }
   ],
   "source": [
    "print(\"Accuracy:\", metrics.accuracy_score(y_test, y_pred))\n",
    "print(\"Precision:\", metrics.precision_score(y_test, y_pred))\n",
    "print(\"Recall:\", metrics.recall_score(y_test, y_pred))"
   ]
  },
  {
   "cell_type": "markdown",
   "id": "cb6a1986",
   "metadata": {},
   "source": [
    "### DecisionTreeClassifier"
   ]
  },
  {
   "cell_type": "code",
   "execution_count": 30,
   "id": "a55859f0",
   "metadata": {},
   "outputs": [
    {
     "data": {
      "text/html": [
       "<div>\n",
       "<style scoped>\n",
       "    .dataframe tbody tr th:only-of-type {\n",
       "        vertical-align: middle;\n",
       "    }\n",
       "\n",
       "    .dataframe tbody tr th {\n",
       "        vertical-align: top;\n",
       "    }\n",
       "\n",
       "    .dataframe thead th {\n",
       "        text-align: right;\n",
       "    }\n",
       "</style>\n",
       "<table border=\"1\" class=\"dataframe\">\n",
       "  <thead>\n",
       "    <tr style=\"text-align: right;\">\n",
       "      <th></th>\n",
       "      <th>count</th>\n",
       "      <th>mean</th>\n",
       "      <th>std</th>\n",
       "      <th>min</th>\n",
       "      <th>25%</th>\n",
       "      <th>50%</th>\n",
       "      <th>75%</th>\n",
       "      <th>max</th>\n",
       "    </tr>\n",
       "  </thead>\n",
       "  <tbody>\n",
       "    <tr>\n",
       "      <th>Age</th>\n",
       "      <td>1470.0</td>\n",
       "      <td>0.450567</td>\n",
       "      <td>0.217509</td>\n",
       "      <td>0.0</td>\n",
       "      <td>0.285714</td>\n",
       "      <td>0.428571</td>\n",
       "      <td>0.595238</td>\n",
       "      <td>1.0</td>\n",
       "    </tr>\n",
       "    <tr>\n",
       "      <th>Attrition</th>\n",
       "      <td>1470.0</td>\n",
       "      <td>0.161224</td>\n",
       "      <td>0.367863</td>\n",
       "      <td>0.0</td>\n",
       "      <td>0.000000</td>\n",
       "      <td>0.000000</td>\n",
       "      <td>0.000000</td>\n",
       "      <td>1.0</td>\n",
       "    </tr>\n",
       "    <tr>\n",
       "      <th>BusinessTravel</th>\n",
       "      <td>1470.0</td>\n",
       "      <td>1.607483</td>\n",
       "      <td>0.665455</td>\n",
       "      <td>0.0</td>\n",
       "      <td>1.000000</td>\n",
       "      <td>2.000000</td>\n",
       "      <td>2.000000</td>\n",
       "      <td>2.0</td>\n",
       "    </tr>\n",
       "    <tr>\n",
       "      <th>DailyRate</th>\n",
       "      <td>1470.0</td>\n",
       "      <td>0.501421</td>\n",
       "      <td>0.288840</td>\n",
       "      <td>0.0</td>\n",
       "      <td>0.259843</td>\n",
       "      <td>0.501074</td>\n",
       "      <td>0.755190</td>\n",
       "      <td>1.0</td>\n",
       "    </tr>\n",
       "    <tr>\n",
       "      <th>Department</th>\n",
       "      <td>1470.0</td>\n",
       "      <td>1.260544</td>\n",
       "      <td>0.527792</td>\n",
       "      <td>0.0</td>\n",
       "      <td>1.000000</td>\n",
       "      <td>1.000000</td>\n",
       "      <td>2.000000</td>\n",
       "      <td>2.0</td>\n",
       "    </tr>\n",
       "    <tr>\n",
       "      <th>DistanceFromHome</th>\n",
       "      <td>1470.0</td>\n",
       "      <td>0.292590</td>\n",
       "      <td>0.289531</td>\n",
       "      <td>0.0</td>\n",
       "      <td>0.035714</td>\n",
       "      <td>0.214286</td>\n",
       "      <td>0.464286</td>\n",
       "      <td>1.0</td>\n",
       "    </tr>\n",
       "    <tr>\n",
       "      <th>Education</th>\n",
       "      <td>1470.0</td>\n",
       "      <td>0.478231</td>\n",
       "      <td>0.256041</td>\n",
       "      <td>0.0</td>\n",
       "      <td>0.250000</td>\n",
       "      <td>0.500000</td>\n",
       "      <td>0.750000</td>\n",
       "      <td>1.0</td>\n",
       "    </tr>\n",
       "    <tr>\n",
       "      <th>EducationField</th>\n",
       "      <td>1470.0</td>\n",
       "      <td>2.247619</td>\n",
       "      <td>1.331369</td>\n",
       "      <td>0.0</td>\n",
       "      <td>1.000000</td>\n",
       "      <td>2.000000</td>\n",
       "      <td>3.000000</td>\n",
       "      <td>5.0</td>\n",
       "    </tr>\n",
       "    <tr>\n",
       "      <th>EnvironmentSatisfaction</th>\n",
       "      <td>1470.0</td>\n",
       "      <td>0.573923</td>\n",
       "      <td>0.364361</td>\n",
       "      <td>0.0</td>\n",
       "      <td>0.333333</td>\n",
       "      <td>0.666667</td>\n",
       "      <td>1.000000</td>\n",
       "      <td>1.0</td>\n",
       "    </tr>\n",
       "    <tr>\n",
       "      <th>Gender</th>\n",
       "      <td>1470.0</td>\n",
       "      <td>0.600000</td>\n",
       "      <td>0.490065</td>\n",
       "      <td>0.0</td>\n",
       "      <td>0.000000</td>\n",
       "      <td>1.000000</td>\n",
       "      <td>1.000000</td>\n",
       "      <td>1.0</td>\n",
       "    </tr>\n",
       "    <tr>\n",
       "      <th>HourlyRate</th>\n",
       "      <td>1470.0</td>\n",
       "      <td>0.512731</td>\n",
       "      <td>0.290420</td>\n",
       "      <td>0.0</td>\n",
       "      <td>0.257143</td>\n",
       "      <td>0.514286</td>\n",
       "      <td>0.767857</td>\n",
       "      <td>1.0</td>\n",
       "    </tr>\n",
       "    <tr>\n",
       "      <th>JobInvolvement</th>\n",
       "      <td>1470.0</td>\n",
       "      <td>0.576644</td>\n",
       "      <td>0.237187</td>\n",
       "      <td>0.0</td>\n",
       "      <td>0.333333</td>\n",
       "      <td>0.666667</td>\n",
       "      <td>0.666667</td>\n",
       "      <td>1.0</td>\n",
       "    </tr>\n",
       "    <tr>\n",
       "      <th>JobLevel</th>\n",
       "      <td>1470.0</td>\n",
       "      <td>0.265986</td>\n",
       "      <td>0.276735</td>\n",
       "      <td>0.0</td>\n",
       "      <td>0.000000</td>\n",
       "      <td>0.250000</td>\n",
       "      <td>0.500000</td>\n",
       "      <td>1.0</td>\n",
       "    </tr>\n",
       "    <tr>\n",
       "      <th>JobRole</th>\n",
       "      <td>1470.0</td>\n",
       "      <td>4.458503</td>\n",
       "      <td>2.461821</td>\n",
       "      <td>0.0</td>\n",
       "      <td>2.000000</td>\n",
       "      <td>5.000000</td>\n",
       "      <td>7.000000</td>\n",
       "      <td>8.0</td>\n",
       "    </tr>\n",
       "    <tr>\n",
       "      <th>JobSatisfaction</th>\n",
       "      <td>1470.0</td>\n",
       "      <td>0.576190</td>\n",
       "      <td>0.367615</td>\n",
       "      <td>0.0</td>\n",
       "      <td>0.333333</td>\n",
       "      <td>0.666667</td>\n",
       "      <td>1.000000</td>\n",
       "      <td>1.0</td>\n",
       "    </tr>\n",
       "    <tr>\n",
       "      <th>MaritalStatus</th>\n",
       "      <td>1470.0</td>\n",
       "      <td>1.097279</td>\n",
       "      <td>0.730121</td>\n",
       "      <td>0.0</td>\n",
       "      <td>1.000000</td>\n",
       "      <td>1.000000</td>\n",
       "      <td>2.000000</td>\n",
       "      <td>2.0</td>\n",
       "    </tr>\n",
       "    <tr>\n",
       "      <th>MonthlyIncome</th>\n",
       "      <td>1470.0</td>\n",
       "      <td>0.289307</td>\n",
       "      <td>0.247918</td>\n",
       "      <td>0.0</td>\n",
       "      <td>0.100158</td>\n",
       "      <td>0.205898</td>\n",
       "      <td>0.388099</td>\n",
       "      <td>1.0</td>\n",
       "    </tr>\n",
       "    <tr>\n",
       "      <th>MonthlyRate</th>\n",
       "      <td>1470.0</td>\n",
       "      <td>0.490629</td>\n",
       "      <td>0.285797</td>\n",
       "      <td>0.0</td>\n",
       "      <td>0.239028</td>\n",
       "      <td>0.487513</td>\n",
       "      <td>0.737503</td>\n",
       "      <td>1.0</td>\n",
       "    </tr>\n",
       "    <tr>\n",
       "      <th>NumCompaniesWorked</th>\n",
       "      <td>1470.0</td>\n",
       "      <td>0.299244</td>\n",
       "      <td>0.277557</td>\n",
       "      <td>0.0</td>\n",
       "      <td>0.111111</td>\n",
       "      <td>0.222222</td>\n",
       "      <td>0.444444</td>\n",
       "      <td>1.0</td>\n",
       "    </tr>\n",
       "    <tr>\n",
       "      <th>OverTime</th>\n",
       "      <td>1470.0</td>\n",
       "      <td>0.282993</td>\n",
       "      <td>0.450606</td>\n",
       "      <td>0.0</td>\n",
       "      <td>0.000000</td>\n",
       "      <td>0.000000</td>\n",
       "      <td>1.000000</td>\n",
       "      <td>1.0</td>\n",
       "    </tr>\n",
       "    <tr>\n",
       "      <th>PercentSalaryHike</th>\n",
       "      <td>1470.0</td>\n",
       "      <td>0.300680</td>\n",
       "      <td>0.261424</td>\n",
       "      <td>0.0</td>\n",
       "      <td>0.071429</td>\n",
       "      <td>0.214286</td>\n",
       "      <td>0.500000</td>\n",
       "      <td>1.0</td>\n",
       "    </tr>\n",
       "    <tr>\n",
       "      <th>PerformanceRating</th>\n",
       "      <td>1470.0</td>\n",
       "      <td>0.153741</td>\n",
       "      <td>0.360824</td>\n",
       "      <td>0.0</td>\n",
       "      <td>0.000000</td>\n",
       "      <td>0.000000</td>\n",
       "      <td>0.000000</td>\n",
       "      <td>1.0</td>\n",
       "    </tr>\n",
       "    <tr>\n",
       "      <th>RelationshipSatisfaction</th>\n",
       "      <td>1470.0</td>\n",
       "      <td>0.570748</td>\n",
       "      <td>0.360403</td>\n",
       "      <td>0.0</td>\n",
       "      <td>0.333333</td>\n",
       "      <td>0.666667</td>\n",
       "      <td>1.000000</td>\n",
       "      <td>1.0</td>\n",
       "    </tr>\n",
       "    <tr>\n",
       "      <th>StockOptionLevel</th>\n",
       "      <td>1470.0</td>\n",
       "      <td>0.264626</td>\n",
       "      <td>0.284026</td>\n",
       "      <td>0.0</td>\n",
       "      <td>0.000000</td>\n",
       "      <td>0.333333</td>\n",
       "      <td>0.333333</td>\n",
       "      <td>1.0</td>\n",
       "    </tr>\n",
       "    <tr>\n",
       "      <th>TotalWorkingYears</th>\n",
       "      <td>1470.0</td>\n",
       "      <td>0.281990</td>\n",
       "      <td>0.194520</td>\n",
       "      <td>0.0</td>\n",
       "      <td>0.150000</td>\n",
       "      <td>0.250000</td>\n",
       "      <td>0.375000</td>\n",
       "      <td>1.0</td>\n",
       "    </tr>\n",
       "    <tr>\n",
       "      <th>TrainingTimesLastYear</th>\n",
       "      <td>1470.0</td>\n",
       "      <td>0.466553</td>\n",
       "      <td>0.214878</td>\n",
       "      <td>0.0</td>\n",
       "      <td>0.333333</td>\n",
       "      <td>0.500000</td>\n",
       "      <td>0.500000</td>\n",
       "      <td>1.0</td>\n",
       "    </tr>\n",
       "    <tr>\n",
       "      <th>WorkLifeBalance</th>\n",
       "      <td>1470.0</td>\n",
       "      <td>0.587075</td>\n",
       "      <td>0.235492</td>\n",
       "      <td>0.0</td>\n",
       "      <td>0.333333</td>\n",
       "      <td>0.666667</td>\n",
       "      <td>0.666667</td>\n",
       "      <td>1.0</td>\n",
       "    </tr>\n",
       "    <tr>\n",
       "      <th>YearsAtCompany</th>\n",
       "      <td>1470.0</td>\n",
       "      <td>0.175204</td>\n",
       "      <td>0.153163</td>\n",
       "      <td>0.0</td>\n",
       "      <td>0.075000</td>\n",
       "      <td>0.125000</td>\n",
       "      <td>0.225000</td>\n",
       "      <td>1.0</td>\n",
       "    </tr>\n",
       "    <tr>\n",
       "      <th>YearsInCurrentRole</th>\n",
       "      <td>1470.0</td>\n",
       "      <td>0.234958</td>\n",
       "      <td>0.201285</td>\n",
       "      <td>0.0</td>\n",
       "      <td>0.111111</td>\n",
       "      <td>0.166667</td>\n",
       "      <td>0.388889</td>\n",
       "      <td>1.0</td>\n",
       "    </tr>\n",
       "    <tr>\n",
       "      <th>YearsSinceLastPromotion</th>\n",
       "      <td>1470.0</td>\n",
       "      <td>0.145850</td>\n",
       "      <td>0.214829</td>\n",
       "      <td>0.0</td>\n",
       "      <td>0.000000</td>\n",
       "      <td>0.066667</td>\n",
       "      <td>0.200000</td>\n",
       "      <td>1.0</td>\n",
       "    </tr>\n",
       "    <tr>\n",
       "      <th>YearsWithCurrManager</th>\n",
       "      <td>1470.0</td>\n",
       "      <td>0.242537</td>\n",
       "      <td>0.209890</td>\n",
       "      <td>0.0</td>\n",
       "      <td>0.117647</td>\n",
       "      <td>0.176471</td>\n",
       "      <td>0.411765</td>\n",
       "      <td>1.0</td>\n",
       "    </tr>\n",
       "  </tbody>\n",
       "</table>\n",
       "</div>"
      ],
      "text/plain": [
       "                           count      mean       std  min       25%       50%  \\\n",
       "Age                       1470.0  0.450567  0.217509  0.0  0.285714  0.428571   \n",
       "Attrition                 1470.0  0.161224  0.367863  0.0  0.000000  0.000000   \n",
       "BusinessTravel            1470.0  1.607483  0.665455  0.0  1.000000  2.000000   \n",
       "DailyRate                 1470.0  0.501421  0.288840  0.0  0.259843  0.501074   \n",
       "Department                1470.0  1.260544  0.527792  0.0  1.000000  1.000000   \n",
       "DistanceFromHome          1470.0  0.292590  0.289531  0.0  0.035714  0.214286   \n",
       "Education                 1470.0  0.478231  0.256041  0.0  0.250000  0.500000   \n",
       "EducationField            1470.0  2.247619  1.331369  0.0  1.000000  2.000000   \n",
       "EnvironmentSatisfaction   1470.0  0.573923  0.364361  0.0  0.333333  0.666667   \n",
       "Gender                    1470.0  0.600000  0.490065  0.0  0.000000  1.000000   \n",
       "HourlyRate                1470.0  0.512731  0.290420  0.0  0.257143  0.514286   \n",
       "JobInvolvement            1470.0  0.576644  0.237187  0.0  0.333333  0.666667   \n",
       "JobLevel                  1470.0  0.265986  0.276735  0.0  0.000000  0.250000   \n",
       "JobRole                   1470.0  4.458503  2.461821  0.0  2.000000  5.000000   \n",
       "JobSatisfaction           1470.0  0.576190  0.367615  0.0  0.333333  0.666667   \n",
       "MaritalStatus             1470.0  1.097279  0.730121  0.0  1.000000  1.000000   \n",
       "MonthlyIncome             1470.0  0.289307  0.247918  0.0  0.100158  0.205898   \n",
       "MonthlyRate               1470.0  0.490629  0.285797  0.0  0.239028  0.487513   \n",
       "NumCompaniesWorked        1470.0  0.299244  0.277557  0.0  0.111111  0.222222   \n",
       "OverTime                  1470.0  0.282993  0.450606  0.0  0.000000  0.000000   \n",
       "PercentSalaryHike         1470.0  0.300680  0.261424  0.0  0.071429  0.214286   \n",
       "PerformanceRating         1470.0  0.153741  0.360824  0.0  0.000000  0.000000   \n",
       "RelationshipSatisfaction  1470.0  0.570748  0.360403  0.0  0.333333  0.666667   \n",
       "StockOptionLevel          1470.0  0.264626  0.284026  0.0  0.000000  0.333333   \n",
       "TotalWorkingYears         1470.0  0.281990  0.194520  0.0  0.150000  0.250000   \n",
       "TrainingTimesLastYear     1470.0  0.466553  0.214878  0.0  0.333333  0.500000   \n",
       "WorkLifeBalance           1470.0  0.587075  0.235492  0.0  0.333333  0.666667   \n",
       "YearsAtCompany            1470.0  0.175204  0.153163  0.0  0.075000  0.125000   \n",
       "YearsInCurrentRole        1470.0  0.234958  0.201285  0.0  0.111111  0.166667   \n",
       "YearsSinceLastPromotion   1470.0  0.145850  0.214829  0.0  0.000000  0.066667   \n",
       "YearsWithCurrManager      1470.0  0.242537  0.209890  0.0  0.117647  0.176471   \n",
       "\n",
       "                               75%  max  \n",
       "Age                       0.595238  1.0  \n",
       "Attrition                 0.000000  1.0  \n",
       "BusinessTravel            2.000000  2.0  \n",
       "DailyRate                 0.755190  1.0  \n",
       "Department                2.000000  2.0  \n",
       "DistanceFromHome          0.464286  1.0  \n",
       "Education                 0.750000  1.0  \n",
       "EducationField            3.000000  5.0  \n",
       "EnvironmentSatisfaction   1.000000  1.0  \n",
       "Gender                    1.000000  1.0  \n",
       "HourlyRate                0.767857  1.0  \n",
       "JobInvolvement            0.666667  1.0  \n",
       "JobLevel                  0.500000  1.0  \n",
       "JobRole                   7.000000  8.0  \n",
       "JobSatisfaction           1.000000  1.0  \n",
       "MaritalStatus             2.000000  2.0  \n",
       "MonthlyIncome             0.388099  1.0  \n",
       "MonthlyRate               0.737503  1.0  \n",
       "NumCompaniesWorked        0.444444  1.0  \n",
       "OverTime                  1.000000  1.0  \n",
       "PercentSalaryHike         0.500000  1.0  \n",
       "PerformanceRating         0.000000  1.0  \n",
       "RelationshipSatisfaction  1.000000  1.0  \n",
       "StockOptionLevel          0.333333  1.0  \n",
       "TotalWorkingYears         0.375000  1.0  \n",
       "TrainingTimesLastYear     0.500000  1.0  \n",
       "WorkLifeBalance           0.666667  1.0  \n",
       "YearsAtCompany            0.225000  1.0  \n",
       "YearsInCurrentRole        0.388889  1.0  \n",
       "YearsSinceLastPromotion   0.200000  1.0  \n",
       "YearsWithCurrManager      0.411765  1.0  "
      ]
     },
     "execution_count": 30,
     "metadata": {},
     "output_type": "execute_result"
    }
   ],
   "source": [
    "df.describe().T"
   ]
  },
  {
   "cell_type": "code",
   "execution_count": 31,
   "id": "43a562f3",
   "metadata": {},
   "outputs": [
    {
     "data": {
      "text/plain": [
       "30"
      ]
     },
     "execution_count": 31,
     "metadata": {},
     "output_type": "execute_result"
    }
   ],
   "source": [
    "feature_cols = [x for x in df.columns if x not in 'Attrition']\n",
    "len(feature_cols)"
   ]
  },
  {
   "cell_type": "markdown",
   "id": "78554591",
   "metadata": {},
   "source": [
    "We will use `StratifiedShuffleSplit` to split the dataset because of the unbalanced response data. "
   ]
  },
  {
   "cell_type": "code",
   "execution_count": 32,
   "id": "ff03c5ac",
   "metadata": {},
   "outputs": [],
   "source": [
    "from sklearn.model_selection import StratifiedShuffleSplit\n",
    "strat_shuff_split = StratifiedShuffleSplit(n_splits=1, test_size=0.25, random_state=11)\n",
    "\n",
    "train_idx, test_idx = next(strat_shuff_split.split(df[feature_cols], df['Attrition']))\n",
    "\n",
    "\n",
    "X_train = df.loc[train_idx, feature_cols]\n",
    "y_train = df.loc[train_idx, 'Attrition']\n",
    "\n",
    "\n",
    "X_test = df.loc[test_idx, feature_cols]\n",
    "y_test = df.loc[test_idx, 'Attrition']"
   ]
  },
  {
   "cell_type": "code",
   "execution_count": 33,
   "id": "ac4825d6",
   "metadata": {},
   "outputs": [
    {
     "data": {
      "text/plain": [
       "0    0.838475\n",
       "1    0.161525\n",
       "Name: Attrition, dtype: float64"
      ]
     },
     "execution_count": 33,
     "metadata": {},
     "output_type": "execute_result"
    }
   ],
   "source": [
    "y_train.value_counts(normalize=True).sort_index()"
   ]
  },
  {
   "cell_type": "code",
   "execution_count": 34,
   "id": "26cf293e",
   "metadata": {},
   "outputs": [
    {
     "data": {
      "text/plain": [
       "0    0.839674\n",
       "1    0.160326\n",
       "Name: Attrition, dtype: float64"
      ]
     },
     "execution_count": 34,
     "metadata": {},
     "output_type": "execute_result"
    }
   ],
   "source": [
    "y_test.value_counts(normalize=True).sort_index()"
   ]
  },
  {
   "cell_type": "code",
   "execution_count": 35,
   "id": "05a6a99e",
   "metadata": {},
   "outputs": [],
   "source": [
    "from sklearn.tree import DecisionTreeClassifier\n",
    "dt = DecisionTreeClassifier(random_state=42)\n",
    "dt = dt.fit(X_train, y_train)"
   ]
  },
  {
   "cell_type": "code",
   "execution_count": 36,
   "id": "3f51eb06",
   "metadata": {},
   "outputs": [
    {
     "data": {
      "text/plain": [
       "(275, 15)"
      ]
     },
     "execution_count": 36,
     "metadata": {},
     "output_type": "execute_result"
    }
   ],
   "source": [
    "dt.tree_.node_count, dt.tree_.max_depth"
   ]
  },
  {
   "cell_type": "code",
   "execution_count": 37,
   "id": "8a460e9f",
   "metadata": {},
   "outputs": [],
   "source": [
    "from sklearn.metrics import accuracy_score, precision_score, recall_score, f1_score, confusion_matrix, roc_auc_score\n",
    "\n",
    "def measure_error(y_true, y_pred, label):\n",
    "    return pd.Series({'accuracy':accuracy_score(y_true, y_pred),\n",
    "                      'precision': precision_score(y_true, y_pred),\n",
    "                      'recall': recall_score(y_true, y_pred),\n",
    "                      'f1': f1_score(y_true, y_pred)},\n",
    "                      name=label)"
   ]
  },
  {
   "cell_type": "code",
   "execution_count": 38,
   "id": "8729356f",
   "metadata": {},
   "outputs": [
    {
     "name": "stdout",
     "output_type": "stream",
     "text": [
      "           train      test\n",
      "accuracy     1.0  0.777174\n",
      "precision    1.0  0.338028\n",
      "recall       1.0  0.406780\n",
      "f1           1.0  0.369231\n"
     ]
    }
   ],
   "source": [
    "y_train_pred = dt.predict(X_train)\n",
    "y_test_pred = dt.predict(X_test)\n",
    "\n",
    "train_test_full_error = pd.concat([measure_error(y_train, y_train_pred, 'train'),\n",
    "                              measure_error(y_test, y_test_pred, 'test')],\n",
    "                              axis=1)\n",
    "train_test_full_error.to_clipboard(excel=True,sep='\\t')\n",
    "print(train_test_full_error)"
   ]
  },
  {
   "cell_type": "code",
   "execution_count": null,
   "id": "bf0abaff",
   "metadata": {},
   "outputs": [],
   "source": []
  },
  {
   "cell_type": "code",
   "execution_count": 39,
   "id": "e26635a7",
   "metadata": {},
   "outputs": [
    {
     "data": {
      "text/plain": [
       "array([[262,  47],\n",
       "       [ 35,  24]], dtype=int64)"
      ]
     },
     "execution_count": 39,
     "metadata": {},
     "output_type": "execute_result"
    }
   ],
   "source": [
    "confusion_matrix(y_test, y_test_pred)"
   ]
  },
  {
   "cell_type": "code",
   "execution_count": 40,
   "id": "8d152b88",
   "metadata": {},
   "outputs": [
    {
     "data": {
      "text/plain": [
       "0.6273380505731995"
      ]
     },
     "execution_count": 40,
     "metadata": {},
     "output_type": "execute_result"
    }
   ],
   "source": [
    "roc_auc_score(y_test, y_test_pred)"
   ]
  },
  {
   "cell_type": "code",
   "execution_count": 41,
   "id": "bb86e06e",
   "metadata": {},
   "outputs": [
    {
     "data": {
      "text/plain": [
       "30"
      ]
     },
     "execution_count": 41,
     "metadata": {},
     "output_type": "execute_result"
    }
   ],
   "source": [
    "dt.tree_.max_depth\n",
    "len(dt.feature_importances_)"
   ]
  },
  {
   "cell_type": "markdown",
   "id": "8eb0090c",
   "metadata": {},
   "source": [
    "#### Using CrossValidation to tune parameters"
   ]
  },
  {
   "cell_type": "code",
   "execution_count": 42,
   "id": "17734dfc",
   "metadata": {},
   "outputs": [],
   "source": [
    "from sklearn.model_selection import GridSearchCV, cross_val_score,cross_val_predict\n",
    "\n",
    "param_grid = {'max_depth':range(1, dt.tree_.max_depth+1, 2),\n",
    "              'max_features': range(1, len(dt.feature_importances_)+1)}\n",
    "\n",
    "GR = GridSearchCV(DecisionTreeClassifier(random_state=33),\n",
    "                  param_grid=param_grid,\n",
    "                  scoring='accuracy',\n",
    "                  cv=5,\n",
    "                  n_jobs=-1)\n",
    "\n",
    "GR = GR.fit(X_train, y_train)"
   ]
  },
  {
   "cell_type": "code",
   "execution_count": 83,
   "id": "91a38769",
   "metadata": {},
   "outputs": [
    {
     "data": {
      "text/plain": [
       "(15, 3)"
      ]
     },
     "execution_count": 83,
     "metadata": {},
     "output_type": "execute_result"
    }
   ],
   "source": [
    "GR.best_estimator_.tree_.node_count, GR.best_estimator_.tree_.max_depth"
   ]
  },
  {
   "cell_type": "code",
   "execution_count": 43,
   "id": "a3db9039",
   "metadata": {},
   "outputs": [
    {
     "data": {
      "text/plain": [
       "(15, 3)"
      ]
     },
     "execution_count": 43,
     "metadata": {},
     "output_type": "execute_result"
    }
   ],
   "source": [
    "GR.best_estimator_.tree_.max_features"
   ]
  },
  {
   "cell_type": "code",
   "execution_count": 44,
   "id": "acefa9df",
   "metadata": {},
   "outputs": [],
   "source": [
    "y_train_pred_gr = GR.predict(X_train)\n",
    "y_test_pred_gr = GR.predict(X_test)\n",
    "\n",
    "train_test_gr_error = pd.concat([measure_error(y_train, y_train_pred_gr, 'train'),\n",
    "                                 measure_error(y_test, y_test_pred_gr, 'test')],\n",
    "                                axis=1)"
   ]
  },
  {
   "cell_type": "code",
   "execution_count": 45,
   "id": "4831457b",
   "metadata": {},
   "outputs": [
    {
     "data": {
      "text/html": [
       "<div>\n",
       "<style scoped>\n",
       "    .dataframe tbody tr th:only-of-type {\n",
       "        vertical-align: middle;\n",
       "    }\n",
       "\n",
       "    .dataframe tbody tr th {\n",
       "        vertical-align: top;\n",
       "    }\n",
       "\n",
       "    .dataframe thead th {\n",
       "        text-align: right;\n",
       "    }\n",
       "</style>\n",
       "<table border=\"1\" class=\"dataframe\">\n",
       "  <thead>\n",
       "    <tr style=\"text-align: right;\">\n",
       "      <th></th>\n",
       "      <th>train</th>\n",
       "      <th>test</th>\n",
       "    </tr>\n",
       "  </thead>\n",
       "  <tbody>\n",
       "    <tr>\n",
       "      <th>accuracy</th>\n",
       "      <td>0.866606</td>\n",
       "      <td>0.850543</td>\n",
       "    </tr>\n",
       "    <tr>\n",
       "      <th>precision</th>\n",
       "      <td>0.738462</td>\n",
       "      <td>0.590909</td>\n",
       "    </tr>\n",
       "    <tr>\n",
       "      <th>recall</th>\n",
       "      <td>0.269663</td>\n",
       "      <td>0.220339</td>\n",
       "    </tr>\n",
       "    <tr>\n",
       "      <th>f1</th>\n",
       "      <td>0.395062</td>\n",
       "      <td>0.320988</td>\n",
       "    </tr>\n",
       "  </tbody>\n",
       "</table>\n",
       "</div>"
      ],
      "text/plain": [
       "              train      test\n",
       "accuracy   0.866606  0.850543\n",
       "precision  0.738462  0.590909\n",
       "recall     0.269663  0.220339\n",
       "f1         0.395062  0.320988"
      ]
     },
     "execution_count": 45,
     "metadata": {},
     "output_type": "execute_result"
    }
   ],
   "source": [
    "train_test_gr_error.to_clipboard(excel=True,sep='\\t')\n",
    "train_test_gr_error"
   ]
  },
  {
   "cell_type": "markdown",
   "id": "ed8be5b9",
   "metadata": {},
   "source": [
    "\n",
    "\n",
    "\n",
    "#### Visualize the confusion matrix, ROC-AUC and feature importance"
   ]
  },
  {
   "cell_type": "markdown",
   "id": "541b9815",
   "metadata": {},
   "source": [
    "confusion_matrix(y_test, y_test_pred_gr)"
   ]
  },
  {
   "cell_type": "code",
   "execution_count": 46,
   "id": "8f6f210a",
   "metadata": {},
   "outputs": [
    {
     "data": {
      "text/plain": [
       "0.5956063847293073"
      ]
     },
     "execution_count": 46,
     "metadata": {},
     "output_type": "execute_result"
    }
   ],
   "source": [
    "roc_auc_score(y_test, y_test_pred_gr)"
   ]
  },
  {
   "cell_type": "code",
   "execution_count": 47,
   "id": "69b800c6",
   "metadata": {},
   "outputs": [
    {
     "data": {
      "text/plain": [
       "Text(0.5, 40.5, 'True class')"
      ]
     },
     "execution_count": 47,
     "metadata": {},
     "output_type": "execute_result"
    },
    {
     "data": {
      "image/png": "[encoded data removed]",
      "text/plain": [
       "<Figure size 576x576 with 2 Axes>"
      ]
     },
     "metadata": {
      "needs_background": "light"
     },
     "output_type": "display_data"
    }
   ],
   "source": [
    "from sklearn.metrics import roc_curve, precision_recall_curve, confusion_matrix\n",
    "\n",
    "sns.set_context('talk')\n",
    "cm = confusion_matrix(y_test, y_test_pred_gr)\n",
    "_, ax = plt.subplots(figsize=(8,8))\n",
    "ax = sns.heatmap(cm, annot=True, fmt='d', annot_kws={\"size\": 20, \"weight\": \"bold\"})\n",
    "\n",
    "labels = ['Negative', 'Positive']\n",
    "ax.set_xticklabels(labels[::1], fontsize=20);\n",
    "ax.set_yticklabels(labels[::1], fontsize=20);\n",
    "ax.set_ylabel('Predicted class', fontsize=30);\n",
    "ax.set_xlabel('True class', fontsize=30)"
   ]
  },
  {
   "cell_type": "code",
   "execution_count": 48,
   "id": "7812f5d5",
   "metadata": {},
   "outputs": [
    {
     "data": {
      "image/png": "[encoded data removed]",
      "text/plain": [
       "<Figure size 1152x576 with 2 Axes>"
      ]
     },
     "metadata": {
      "needs_background": "light"
     },
     "output_type": "display_data"
    }
   ],
   "source": [
    "sns.set_context('talk')\n",
    "\n",
    "fig, axList = plt.subplots(ncols=2)\n",
    "fig.set_size_inches(16, 8)\n",
    "\n",
    "y_prob = GR.predict_proba(X_test)\n",
    "\n",
    "\n",
    "ax = axList[0]\n",
    "\n",
    "fpr, tpr, thresholds = roc_curve(y_test, y_prob[:,1])\n",
    "ax.plot(fpr, tpr, linewidth=5)\n",
    "\n",
    "ax.plot([0, 1], [0, 1], ls='--', color='black', lw=.3)\n",
    "ax.set(xlabel='False Positive Rate',\n",
    "       ylabel='True Positive Rate',\n",
    "       xlim=[-.01, 1.01], ylim=[-.01, 1.01],\n",
    "       title='ROC curve')\n",
    "ax.grid(True)\n",
    "\n",
    "#---------------------------------------------------------------------------------------------#\n",
    "\n",
    "ax = axList[1]\n",
    "\n",
    "precision, recall, _ = precision_recall_curve(y_test, y_prob[:,1])\n",
    "ax.plot(recall, precision, linewidth=5)\n",
    "ax.set(xlabel='Recall', ylabel='Precision',\n",
    "       xlim=[-.01, 1.01], ylim=[-.01, 1.01],\n",
    "       title='Precision-Recall curve')\n",
    "ax.grid(True)\n",
    "\n",
    "plt.tight_layout()"
   ]
  },
  {
   "cell_type": "code",
   "execution_count": 49,
   "id": "176c80f5",
   "metadata": {},
   "outputs": [
    {
     "data": {
      "image/png": "[encoded data removed]",
      "text/plain": [
       "<Figure size 1152x432 with 1 Axes>"
      ]
     },
     "metadata": {
      "needs_background": "light"
     },
     "output_type": "display_data"
    }
   ],
   "source": [
    "feature_imp = pd.Series(GR.best_estimator_.feature_importances_, index=feature_cols).sort_values(ascending=False)\n",
    "ax = feature_imp.plot(kind='bar', figsize=(16, 6))\n",
    "ax.set(ylabel='Relative Importance');\n",
    "ax.set(ylabel='Feature');"
   ]
  },
  {
   "cell_type": "markdown",
   "id": "ad5cc636",
   "metadata": {},
   "source": [
    "### RandomForestClassifier"
   ]
  },
  {
   "cell_type": "code",
   "execution_count": 50,
   "id": "518fe107",
   "metadata": {},
   "outputs": [],
   "source": [
    "from sklearn.ensemble import RandomForestClassifier\n",
    "RF = RandomForestClassifier(random_state=66)\n",
    "RF = RF.fit(X_train, y_train)"
   ]
  },
  {
   "cell_type": "code",
   "execution_count": 51,
   "id": "9188d0aa",
   "metadata": {},
   "outputs": [
    {
     "data": {
      "text/html": [
       "<div>\n",
       "<style scoped>\n",
       "    .dataframe tbody tr th:only-of-type {\n",
       "        vertical-align: middle;\n",
       "    }\n",
       "\n",
       "    .dataframe tbody tr th {\n",
       "        vertical-align: top;\n",
       "    }\n",
       "\n",
       "    .dataframe thead th {\n",
       "        text-align: right;\n",
       "    }\n",
       "</style>\n",
       "<table border=\"1\" class=\"dataframe\">\n",
       "  <thead>\n",
       "    <tr style=\"text-align: right;\">\n",
       "      <th></th>\n",
       "      <th>train</th>\n",
       "      <th>test</th>\n",
       "    </tr>\n",
       "  </thead>\n",
       "  <tbody>\n",
       "    <tr>\n",
       "      <th>accuracy</th>\n",
       "      <td>1.0</td>\n",
       "      <td>0.850543</td>\n",
       "    </tr>\n",
       "    <tr>\n",
       "      <th>precision</th>\n",
       "      <td>1.0</td>\n",
       "      <td>0.666667</td>\n",
       "    </tr>\n",
       "    <tr>\n",
       "      <th>recall</th>\n",
       "      <td>1.0</td>\n",
       "      <td>0.135593</td>\n",
       "    </tr>\n",
       "    <tr>\n",
       "      <th>f1</th>\n",
       "      <td>1.0</td>\n",
       "      <td>0.225352</td>\n",
       "    </tr>\n",
       "  </tbody>\n",
       "</table>\n",
       "</div>"
      ],
      "text/plain": [
       "           train      test\n",
       "accuracy     1.0  0.850543\n",
       "precision    1.0  0.666667\n",
       "recall       1.0  0.135593\n",
       "f1           1.0  0.225352"
      ]
     },
     "execution_count": 51,
     "metadata": {},
     "output_type": "execute_result"
    }
   ],
   "source": [
    "y_train_pred_rf = RF.predict(X_train)\n",
    "y_test_pred_rf = RF.predict(X_test)\n",
    "\n",
    "train_test_full_error_rf = pd.concat([measure_error(y_train, y_train_pred_rf, 'train'),\n",
    "                              measure_error(y_test, y_test_pred_rf, 'test')],\n",
    "                              axis=1)\n",
    "train_test_full_error_rf.to_clipboard(excel=True,sep='\\t')\n",
    "train_test_full_error_rf"
   ]
  },
  {
   "cell_type": "code",
   "execution_count": 52,
   "id": "6cc9a705",
   "metadata": {},
   "outputs": [
    {
     "data": {
      "text/plain": [
       "array([[305,   4],\n",
       "       [ 51,   8]], dtype=int64)"
      ]
     },
     "execution_count": 52,
     "metadata": {},
     "output_type": "execute_result"
    }
   ],
   "source": [
    "confusion_matrix(y_test, y_test_pred_rf)"
   ]
  },
  {
   "cell_type": "code",
   "execution_count": 53,
   "id": "59a6e90e",
   "metadata": {},
   "outputs": [
    {
     "data": {
      "text/plain": [
       "0.5613241182601065"
      ]
     },
     "execution_count": 53,
     "metadata": {},
     "output_type": "execute_result"
    }
   ],
   "source": [
    "roc_auc_score(y_test, y_test_pred_rf)"
   ]
  },
  {
   "cell_type": "markdown",
   "id": "d87ffc77",
   "metadata": {},
   "source": [
    "#### Using CrossValidation to tune parameters"
   ]
  },
  {
   "cell_type": "code",
   "execution_count": 54,
   "id": "7425c2d2",
   "metadata": {},
   "outputs": [],
   "source": [
    "params_grid_rf = { 'max_depth': [None, 2, 3, 5], \n",
    "                   'min_samples_split': [2, 4, 10],\n",
    "                   'min_samples_leaf': [1, 2, 4, 10],\n",
    "                   'n_estimators':[10, 30, 50, 100, 200, 300, 350, 400, 450, 500, 1000],\n",
    "                   'bootstrap': [True, False]}\n",
    "\n",
    "rf_gr = GridSearchCV(RandomForestClassifier(random_state=77), \n",
    "                     params_grid_rf, \n",
    "                     scoring=\"accuracy\", \n",
    "                     cv=5, \n",
    "                     n_jobs=-1)\n",
    "\n",
    "\n",
    "rf_gr = rf_gr.fit(X_train, y_train)"
   ]
  },
  {
   "cell_type": "code",
   "execution_count": 55,
   "id": "cc4a35b4",
   "metadata": {},
   "outputs": [
    {
     "data": {
      "text/plain": [
       "{'bootstrap': False,\n",
       " 'max_depth': None,\n",
       " 'min_samples_leaf': 1,\n",
       " 'min_samples_split': 10,\n",
       " 'n_estimators': 100}"
      ]
     },
     "execution_count": 55,
     "metadata": {},
     "output_type": "execute_result"
    }
   ],
   "source": [
    "rf_gr.best_params_"
   ]
  },
  {
   "cell_type": "code",
   "execution_count": 56,
   "id": "69544140",
   "metadata": {},
   "outputs": [],
   "source": [
    "y_train_pred_rf_gr = rf_gr.predict(X_train)\n",
    "y_test_pred_rf_gr = rf_gr.predict(X_test)\n",
    "\n",
    "train_test_rf_gr_error = pd.concat([measure_error(y_train, y_train_pred_rf_gr, 'train'),\n",
    "                                 measure_error(y_test, y_test_pred_rf_gr, 'test')],\n",
    "                                axis=1)"
   ]
  },
  {
   "cell_type": "code",
   "execution_count": 57,
   "id": "f7675171",
   "metadata": {},
   "outputs": [
    {
     "data": {
      "text/html": [
       "<div>\n",
       "<style scoped>\n",
       "    .dataframe tbody tr th:only-of-type {\n",
       "        vertical-align: middle;\n",
       "    }\n",
       "\n",
       "    .dataframe tbody tr th {\n",
       "        vertical-align: top;\n",
       "    }\n",
       "\n",
       "    .dataframe thead th {\n",
       "        text-align: right;\n",
       "    }\n",
       "</style>\n",
       "<table border=\"1\" class=\"dataframe\">\n",
       "  <thead>\n",
       "    <tr style=\"text-align: right;\">\n",
       "      <th></th>\n",
       "      <th>train</th>\n",
       "      <th>test</th>\n",
       "    </tr>\n",
       "  </thead>\n",
       "  <tbody>\n",
       "    <tr>\n",
       "      <th>accuracy</th>\n",
       "      <td>0.992740</td>\n",
       "      <td>0.858696</td>\n",
       "    </tr>\n",
       "    <tr>\n",
       "      <th>precision</th>\n",
       "      <td>1.000000</td>\n",
       "      <td>0.705882</td>\n",
       "    </tr>\n",
       "    <tr>\n",
       "      <th>recall</th>\n",
       "      <td>0.955056</td>\n",
       "      <td>0.203390</td>\n",
       "    </tr>\n",
       "    <tr>\n",
       "      <th>f1</th>\n",
       "      <td>0.977011</td>\n",
       "      <td>0.315789</td>\n",
       "    </tr>\n",
       "  </tbody>\n",
       "</table>\n",
       "</div>"
      ],
      "text/plain": [
       "              train      test\n",
       "accuracy   0.992740  0.858696\n",
       "precision  1.000000  0.705882\n",
       "recall     0.955056  0.203390\n",
       "f1         0.977011  0.315789"
      ]
     },
     "execution_count": 57,
     "metadata": {},
     "output_type": "execute_result"
    }
   ],
   "source": [
    "train_test_rf_gr_error.to_clipboard(excel=True,sep='\\t')\n",
    "train_test_rf_gr_error"
   ]
  },
  {
   "cell_type": "code",
   "execution_count": 58,
   "id": "d377c823",
   "metadata": {},
   "outputs": [
    {
     "data": {
      "text/plain": [
       "array([[304,   5],\n",
       "       [ 47,  12]], dtype=int64)"
      ]
     },
     "execution_count": 58,
     "metadata": {},
     "output_type": "execute_result"
    }
   ],
   "source": [
    "confusion_matrix(y_test, y_test_pred_rf_gr)"
   ]
  },
  {
   "cell_type": "code",
   "execution_count": 59,
   "id": "cdd18b89",
   "metadata": {},
   "outputs": [
    {
     "data": {
      "text/plain": [
       "0.5936043003675058"
      ]
     },
     "execution_count": 59,
     "metadata": {},
     "output_type": "execute_result"
    }
   ],
   "source": [
    "roc_auc_score(y_test, y_test_pred_rf_gr)"
   ]
  },
  {
   "cell_type": "markdown",
   "id": "6d9833fd",
   "metadata": {},
   "source": [
    "#### Visualize the confusion matrix, ROC-AUC and feature importance"
   ]
  },
  {
   "cell_type": "code",
   "execution_count": 60,
   "id": "c0c9416d",
   "metadata": {},
   "outputs": [
    {
     "data": {
      "text/plain": [
       "Text(0.5, 40.5, 'True class')"
      ]
     },
     "execution_count": 60,
     "metadata": {},
     "output_type": "execute_result"
    },
    {
     "data": {
      "image/png": "[encoded data removed]",
      "text/plain": [
       "<Figure size 576x576 with 2 Axes>"
      ]
     },
     "metadata": {
      "needs_background": "light"
     },
     "output_type": "display_data"
    }
   ],
   "source": [
    "from sklearn.metrics import roc_curve, precision_recall_curve, confusion_matrix\n",
    "\n",
    "sns.set_context('talk')\n",
    "cm = confusion_matrix(y_test, y_test_pred_rf_gr)\n",
    "_, ax = plt.subplots(figsize=(8,8))\n",
    "ax = sns.heatmap(cm, annot=True, fmt='d', annot_kws={\"size\": 20, \"weight\": \"bold\"})\n",
    "\n",
    "labels = ['Negative', 'Positive']\n",
    "ax.set_xticklabels(labels[::1], fontsize=20);\n",
    "ax.set_yticklabels(labels[::1], fontsize=20);\n",
    "ax.set_ylabel('Predicted class', fontsize=30);\n",
    "ax.set_xlabel('True class', fontsize=30)"
   ]
  },
  {
   "cell_type": "code",
   "execution_count": 61,
   "id": "980e7ba8",
   "metadata": {},
   "outputs": [
    {
     "data": {
      "image/png": "[encoded data removed]",
      "text/plain": [
       "<Figure size 1152x576 with 2 Axes>"
      ]
     },
     "metadata": {
      "needs_background": "light"
     },
     "output_type": "display_data"
    }
   ],
   "source": [
    "sns.set_context('talk')\n",
    "\n",
    "fig, axList = plt.subplots(ncols=2)\n",
    "fig.set_size_inches(16, 8)\n",
    "\n",
    "y_prob = rf_gr.predict_proba(X_test)\n",
    "\n",
    "\n",
    "ax = axList[0]\n",
    "\n",
    "fpr, tpr, thresholds = roc_curve(y_test, y_prob[:,1])\n",
    "ax.plot(fpr, tpr, linewidth=5)\n",
    "\n",
    "ax.plot([0, 1], [0, 1], ls='--', color='black', lw=.3)\n",
    "ax.set(xlabel='False Positive Rate',\n",
    "       ylabel='True Positive Rate',\n",
    "       xlim=[-.01, 1.01], ylim=[-.01, 1.01],\n",
    "       title='ROC curve')\n",
    "ax.grid(True)\n",
    "\n",
    "#---------------------------------------------------------------------------------------------#\n",
    "\n",
    "ax = axList[1]\n",
    "\n",
    "precision, recall, _ = precision_recall_curve(y_test, y_prob[:,1])\n",
    "ax.plot(recall, precision, linewidth=5)\n",
    "ax.set(xlabel='Recall', ylabel='Precision',\n",
    "       xlim=[-.01, 1.01], ylim=[-.01, 1.01],\n",
    "       title='Precision-Recall curve')\n",
    "ax.grid(True)\n",
    "\n",
    "plt.tight_layout()"
   ]
  },
  {
   "cell_type": "code",
   "execution_count": 62,
   "id": "aa0a6069",
   "metadata": {},
   "outputs": [
    {
     "data": {
      "image/png": "[encoded data removed]",
      "text/plain": [
       "<Figure size 1152x432 with 1 Axes>"
      ]
     },
     "metadata": {
      "needs_background": "light"
     },
     "output_type": "display_data"
    }
   ],
   "source": [
    "feature_imp = pd.Series(rf_gr.best_estimator_.feature_importances_, index=feature_cols).sort_values(ascending=False)\n",
    "ax = feature_imp.plot(kind='bar', figsize=(16, 6))\n",
    "ax.set(ylabel='Relative Importance');\n",
    "ax.set(ylabel='Feature');"
   ]
  },
  {
   "cell_type": "markdown",
   "id": "09fba5b0",
   "metadata": {},
   "source": [
    "### LogisticRegression"
   ]
  },
  {
   "cell_type": "code",
   "execution_count": 63,
   "id": "637bd3d2",
   "metadata": {},
   "outputs": [
    {
     "data": {
      "text/html": [
       "<div>\n",
       "<style scoped>\n",
       "    .dataframe tbody tr th:only-of-type {\n",
       "        vertical-align: middle;\n",
       "    }\n",
       "\n",
       "    .dataframe tbody tr th {\n",
       "        vertical-align: top;\n",
       "    }\n",
       "\n",
       "    .dataframe thead th {\n",
       "        text-align: right;\n",
       "    }\n",
       "</style>\n",
       "<table border=\"1\" class=\"dataframe\">\n",
       "  <thead>\n",
       "    <tr style=\"text-align: right;\">\n",
       "      <th></th>\n",
       "      <th>train</th>\n",
       "      <th>test</th>\n",
       "    </tr>\n",
       "  </thead>\n",
       "  <tbody>\n",
       "    <tr>\n",
       "      <th>accuracy</th>\n",
       "      <td>0.872051</td>\n",
       "      <td>0.864130</td>\n",
       "    </tr>\n",
       "    <tr>\n",
       "      <th>precision</th>\n",
       "      <td>0.746667</td>\n",
       "      <td>0.714286</td>\n",
       "    </tr>\n",
       "    <tr>\n",
       "      <th>recall</th>\n",
       "      <td>0.314607</td>\n",
       "      <td>0.254237</td>\n",
       "    </tr>\n",
       "    <tr>\n",
       "      <th>f1</th>\n",
       "      <td>0.442688</td>\n",
       "      <td>0.375000</td>\n",
       "    </tr>\n",
       "  </tbody>\n",
       "</table>\n",
       "</div>"
      ],
      "text/plain": [
       "              train      test\n",
       "accuracy   0.872051  0.864130\n",
       "precision  0.746667  0.714286\n",
       "recall     0.314607  0.254237\n",
       "f1         0.442688  0.375000"
      ]
     },
     "execution_count": 63,
     "metadata": {},
     "output_type": "execute_result"
    }
   ],
   "source": [
    "from sklearn.linear_model import LogisticRegression\n",
    "\n",
    "lr = LogisticRegression(solver='liblinear').fit(X_train, y_train)\n",
    "y_train_pred_lr = lr.predict(X_train)\n",
    "y_test_pred_lr = lr.predict(X_test)\n",
    "\n",
    "train_test_full_error_lr = pd.concat([measure_error(y_train, y_train_pred_lr, 'train'),\n",
    "                              measure_error(y_test, y_test_pred_lr, 'test')],\n",
    "                              axis=1)\n",
    "\n",
    "train_test_full_error_lr"
   ]
  },
  {
   "cell_type": "code",
   "execution_count": 64,
   "id": "bed382d9",
   "metadata": {},
   "outputs": [
    {
     "data": {
      "text/plain": [
       "0.6174099062037189"
      ]
     },
     "execution_count": 64,
     "metadata": {},
     "output_type": "execute_result"
    }
   ],
   "source": [
    "roc_auc_score(y_test, y_test_pred_lr)"
   ]
  },
  {
   "cell_type": "code",
   "execution_count": 65,
   "id": "b6bc56a9",
   "metadata": {},
   "outputs": [],
   "source": [
    "from sklearn.linear_model import LogisticRegressionCV\n",
    "lr_l2 = LogisticRegressionCV(Cs=10, cv=5, penalty='l2', solver='liblinear').fit(X_train, y_train)"
   ]
  },
  {
   "cell_type": "code",
   "execution_count": 66,
   "id": "b80f3afa",
   "metadata": {},
   "outputs": [],
   "source": [
    "y_train_pred_lr_l2 = lr_l2.predict(X_train)\n",
    "y_test_pred_lr_l2 = lr_l2.predict(X_test)\n",
    "\n",
    "train_test_lr_l2_error = pd.concat([measure_error(y_train, y_train_pred_lr_l2, 'train'),\n",
    "                                 measure_error(y_test, y_test_pred_lr_l2, 'test')],\n",
    "                                axis=1)"
   ]
  },
  {
   "cell_type": "code",
   "execution_count": 67,
   "id": "1cc9b731",
   "metadata": {},
   "outputs": [
    {
     "data": {
      "text/html": [
       "<div>\n",
       "<style scoped>\n",
       "    .dataframe tbody tr th:only-of-type {\n",
       "        vertical-align: middle;\n",
       "    }\n",
       "\n",
       "    .dataframe tbody tr th {\n",
       "        vertical-align: top;\n",
       "    }\n",
       "\n",
       "    .dataframe thead th {\n",
       "        text-align: right;\n",
       "    }\n",
       "</style>\n",
       "<table border=\"1\" class=\"dataframe\">\n",
       "  <thead>\n",
       "    <tr style=\"text-align: right;\">\n",
       "      <th></th>\n",
       "      <th>train</th>\n",
       "      <th>test</th>\n",
       "    </tr>\n",
       "  </thead>\n",
       "  <tbody>\n",
       "    <tr>\n",
       "      <th>accuracy</th>\n",
       "      <td>0.876588</td>\n",
       "      <td>0.877717</td>\n",
       "    </tr>\n",
       "    <tr>\n",
       "      <th>precision</th>\n",
       "      <td>0.762500</td>\n",
       "      <td>0.769231</td>\n",
       "    </tr>\n",
       "    <tr>\n",
       "      <th>recall</th>\n",
       "      <td>0.342697</td>\n",
       "      <td>0.338983</td>\n",
       "    </tr>\n",
       "    <tr>\n",
       "      <th>f1</th>\n",
       "      <td>0.472868</td>\n",
       "      <td>0.470588</td>\n",
       "    </tr>\n",
       "  </tbody>\n",
       "</table>\n",
       "</div>"
      ],
      "text/plain": [
       "              train      test\n",
       "accuracy   0.876588  0.877717\n",
       "precision  0.762500  0.769231\n",
       "recall     0.342697  0.338983\n",
       "f1         0.472868  0.470588"
      ]
     },
     "execution_count": 67,
     "metadata": {},
     "output_type": "execute_result"
    }
   ],
   "source": [
    "train_test_lr_l2_error"
   ]
  },
  {
   "cell_type": "code",
   "execution_count": 68,
   "id": "b0c809fd",
   "metadata": {},
   "outputs": [
    {
     "data": {
      "text/plain": [
       "array([[303,   6],\n",
       "       [ 39,  20]], dtype=int64)"
      ]
     },
     "execution_count": 68,
     "metadata": {},
     "output_type": "execute_result"
    }
   ],
   "source": [
    "confusion_matrix(y_test, y_test_pred_lr_l2)"
   ]
  },
  {
   "cell_type": "code",
   "execution_count": 69,
   "id": "783d90d3",
   "metadata": {},
   "outputs": [
    {
     "data": {
      "text/plain": [
       "0.6597827875596511"
      ]
     },
     "execution_count": 69,
     "metadata": {},
     "output_type": "execute_result"
    }
   ],
   "source": [
    "roc_auc_score(y_test, y_test_pred_lr_l2)"
   ]
  },
  {
   "cell_type": "code",
   "execution_count": 70,
   "id": "ff64a38b",
   "metadata": {},
   "outputs": [
    {
     "data": {
      "text/plain": [
       "Text(0.5, 40.5, 'True class')"
      ]
     },
     "execution_count": 70,
     "metadata": {},
     "output_type": "execute_result"
    },
    {
     "data": {
      "image/png": "[encoded data removed]",
      "text/plain": [
       "<Figure size 576x576 with 2 Axes>"
      ]
     },
     "metadata": {
      "needs_background": "light"
     },
     "output_type": "display_data"
    }
   ],
   "source": [
    "from sklearn.metrics import roc_curve, precision_recall_curve, confusion_matrix\n",
    "\n",
    "sns.set_context('talk')\n",
    "cm = confusion_matrix(y_test, y_test_pred_lr_l2)\n",
    "_, ax = plt.subplots(figsize=(8,8))\n",
    "ax = sns.heatmap(cm, annot=True, fmt='d', annot_kws={\"size\": 20, \"weight\": \"bold\"})\n",
    "\n",
    "labels = ['Negative', 'Positive']\n",
    "ax.set_xticklabels(labels[::1], fontsize=20);\n",
    "ax.set_yticklabels(labels[::1], fontsize=20);\n",
    "ax.set_ylabel('Predicted class', fontsize=30);\n",
    "ax.set_xlabel('True class', fontsize=30)"
   ]
  },
  {
   "cell_type": "code",
   "execution_count": 71,
   "id": "9cf4e7a1",
   "metadata": {},
   "outputs": [
    {
     "data": {
      "image/png": "[encoded data removed]",
      "text/plain": [
       "<Figure size 1152x576 with 2 Axes>"
      ]
     },
     "metadata": {
      "needs_background": "light"
     },
     "output_type": "display_data"
    }
   ],
   "source": [
    "sns.set_context('talk')\n",
    "\n",
    "fig, axList = plt.subplots(ncols=2)\n",
    "fig.set_size_inches(16, 8)\n",
    "\n",
    "y_prob = lr_l2.predict_proba(X_test)\n",
    "\n",
    "\n",
    "ax = axList[0]\n",
    "\n",
    "fpr, tpr, thresholds = roc_curve(y_test, y_prob[:,1])\n",
    "ax.plot(fpr, tpr, linewidth=5)\n",
    "\n",
    "ax.plot([0, 1], [0, 1], ls='--', color='black', lw=.3)\n",
    "ax.set(xlabel='False Positive Rate',\n",
    "       ylabel='True Positive Rate',\n",
    "       xlim=[-.01, 1.01], ylim=[-.01, 1.01],\n",
    "       title='ROC curve')\n",
    "ax.grid(True)\n",
    "\n",
    "#---------------------------------------------------------------------------------------------#\n",
    "\n",
    "ax = axList[1]\n",
    "\n",
    "precision, recall, _ = precision_recall_curve(y_test, y_prob[:,1])\n",
    "ax.plot(recall, precision, linewidth=5)\n",
    "ax.set(xlabel='Recall', ylabel='Precision',\n",
    "       xlim=[-.01, 1.01], ylim=[-.01, 1.01],\n",
    "       title='Precision-Recall curve')\n",
    "ax.grid(True)\n",
    "\n",
    "plt.tight_layout()"
   ]
  },
  {
   "cell_type": "markdown",
   "id": "239d6d1b",
   "metadata": {},
   "source": [
    "### KNN"
   ]
  },
  {
   "cell_type": "code",
   "execution_count": 72,
   "id": "b972edb7",
   "metadata": {},
   "outputs": [
    {
     "data": {
      "text/html": [
       "<div>\n",
       "<style scoped>\n",
       "    .dataframe tbody tr th:only-of-type {\n",
       "        vertical-align: middle;\n",
       "    }\n",
       "\n",
       "    .dataframe tbody tr th {\n",
       "        vertical-align: top;\n",
       "    }\n",
       "\n",
       "    .dataframe thead th {\n",
       "        text-align: right;\n",
       "    }\n",
       "</style>\n",
       "<table border=\"1\" class=\"dataframe\">\n",
       "  <thead>\n",
       "    <tr style=\"text-align: right;\">\n",
       "      <th></th>\n",
       "      <th>train</th>\n",
       "      <th>test</th>\n",
       "    </tr>\n",
       "  </thead>\n",
       "  <tbody>\n",
       "    <tr>\n",
       "      <th>accuracy</th>\n",
       "      <td>0.872051</td>\n",
       "      <td>0.836957</td>\n",
       "    </tr>\n",
       "    <tr>\n",
       "      <th>precision</th>\n",
       "      <td>0.760563</td>\n",
       "      <td>0.470588</td>\n",
       "    </tr>\n",
       "    <tr>\n",
       "      <th>recall</th>\n",
       "      <td>0.303371</td>\n",
       "      <td>0.135593</td>\n",
       "    </tr>\n",
       "    <tr>\n",
       "      <th>f1</th>\n",
       "      <td>0.433735</td>\n",
       "      <td>0.210526</td>\n",
       "    </tr>\n",
       "  </tbody>\n",
       "</table>\n",
       "</div>"
      ],
      "text/plain": [
       "              train      test\n",
       "accuracy   0.872051  0.836957\n",
       "precision  0.760563  0.470588\n",
       "recall     0.303371  0.135593\n",
       "f1         0.433735  0.210526"
      ]
     },
     "execution_count": 72,
     "metadata": {},
     "output_type": "execute_result"
    }
   ],
   "source": [
    "from sklearn.neighbors import KNeighborsClassifier\n",
    "\n",
    "knn = KNeighborsClassifier().fit(X_train, y_train)\n",
    "\n",
    "y_train_pred_knn = knn.predict(X_train)\n",
    "y_test_pred_knn = knn.predict(X_test)\n",
    "\n",
    "train_test_full_error_knn = pd.concat([measure_error(y_train, y_train_pred_knn, 'train'),\n",
    "                              measure_error(y_test, y_test_pred_knn, 'test')],\n",
    "                              axis=1)\n",
    "\n",
    "train_test_full_error_knn\n"
   ]
  },
  {
   "cell_type": "code",
   "execution_count": 73,
   "id": "c950a4b8",
   "metadata": {},
   "outputs": [
    {
     "data": {
      "text/plain": [
       "0.5532335033733751"
      ]
     },
     "execution_count": 73,
     "metadata": {},
     "output_type": "execute_result"
    }
   ],
   "source": [
    "roc_auc_score(y_test, y_test_pred_knn)"
   ]
  },
  {
   "cell_type": "markdown",
   "id": "f7105f2d",
   "metadata": {},
   "source": [
    "#### Using CrossValidation to tune parameters"
   ]
  },
  {
   "cell_type": "code",
   "execution_count": 74,
   "id": "d6987e5e",
   "metadata": {},
   "outputs": [],
   "source": [
    "from sklearn.model_selection import GridSearchCV, cross_val_score,cross_val_predict\n",
    "\n",
    "param_grid_knn = {'n_neighbors':range(1, 10, 1)}\n",
    "\n",
    "knn_gr = GridSearchCV(KNeighborsClassifier(),\n",
    "                  param_grid=param_grid_knn,\n",
    "                  scoring='accuracy',\n",
    "                  cv=5,\n",
    "                  n_jobs=-1)\n",
    "\n",
    "knn_gr = knn_gr.fit(X_train, y_train)"
   ]
  },
  {
   "cell_type": "code",
   "execution_count": 75,
   "id": "1b3d6d35",
   "metadata": {},
   "outputs": [
    {
     "data": {
      "text/plain": [
       "{'n_neighbors': 8}"
      ]
     },
     "execution_count": 75,
     "metadata": {},
     "output_type": "execute_result"
    }
   ],
   "source": [
    "knn_gr.best_params_"
   ]
  },
  {
   "cell_type": "code",
   "execution_count": 76,
   "id": "01c89063",
   "metadata": {},
   "outputs": [
    {
     "data": {
      "text/html": [
       "<div>\n",
       "<style scoped>\n",
       "    .dataframe tbody tr th:only-of-type {\n",
       "        vertical-align: middle;\n",
       "    }\n",
       "\n",
       "    .dataframe tbody tr th {\n",
       "        vertical-align: top;\n",
       "    }\n",
       "\n",
       "    .dataframe thead th {\n",
       "        text-align: right;\n",
       "    }\n",
       "</style>\n",
       "<table border=\"1\" class=\"dataframe\">\n",
       "  <thead>\n",
       "    <tr style=\"text-align: right;\">\n",
       "      <th></th>\n",
       "      <th>train</th>\n",
       "      <th>test</th>\n",
       "    </tr>\n",
       "  </thead>\n",
       "  <tbody>\n",
       "    <tr>\n",
       "      <th>accuracy</th>\n",
       "      <td>0.859347</td>\n",
       "      <td>0.845109</td>\n",
       "    </tr>\n",
       "    <tr>\n",
       "      <th>precision</th>\n",
       "      <td>0.960000</td>\n",
       "      <td>0.750000</td>\n",
       "    </tr>\n",
       "    <tr>\n",
       "      <th>recall</th>\n",
       "      <td>0.134831</td>\n",
       "      <td>0.050847</td>\n",
       "    </tr>\n",
       "    <tr>\n",
       "      <th>f1</th>\n",
       "      <td>0.236453</td>\n",
       "      <td>0.095238</td>\n",
       "    </tr>\n",
       "  </tbody>\n",
       "</table>\n",
       "</div>"
      ],
      "text/plain": [
       "              train      test\n",
       "accuracy   0.859347  0.845109\n",
       "precision  0.960000  0.750000\n",
       "recall     0.134831  0.050847\n",
       "f1         0.236453  0.095238"
      ]
     },
     "execution_count": 76,
     "metadata": {},
     "output_type": "execute_result"
    }
   ],
   "source": [
    "y_train_pred_knn_gr = knn_gr.predict(X_train)\n",
    "y_test_pred_knn_gr = knn_gr.predict(X_test)\n",
    "\n",
    "train_test_knn_gr_error = pd.concat([measure_error(y_train, y_train_pred_knn_gr, 'train'),\n",
    "                                 measure_error(y_test, y_test_pred_knn_gr, 'test')],\n",
    "                                axis=1)\n",
    "train_test_knn_gr_error"
   ]
  },
  {
   "cell_type": "code",
   "execution_count": 77,
   "id": "c361b7c3",
   "metadata": {},
   "outputs": [
    {
     "data": {
      "text/plain": [
       "0.523805605836213"
      ]
     },
     "execution_count": 77,
     "metadata": {},
     "output_type": "execute_result"
    }
   ],
   "source": [
    "roc_auc_score(y_test, y_test_pred_knn_gr)"
   ]
  },
  {
   "cell_type": "code",
   "execution_count": 78,
   "id": "76aab2b2",
   "metadata": {},
   "outputs": [
    {
     "data": {
      "text/plain": [
       "Text(0.5, 40.5, 'True class')"
      ]
     },
     "execution_count": 78,
     "metadata": {},
     "output_type": "execute_result"
    },
    {
     "data": {
      "image/png": "[encoded data removed]",
      "text/plain": [
       "<Figure size 576x576 with 2 Axes>"
      ]
     },
     "metadata": {
      "needs_background": "light"
     },
     "output_type": "display_data"
    }
   ],
   "source": [
    "from sklearn.metrics import roc_curve, precision_recall_curve, confusion_matrix\n",
    "\n",
    "sns.set_context('talk')\n",
    "cm = confusion_matrix(y_test, y_test_pred_knn_gr)\n",
    "_, ax = plt.subplots(figsize=(8,8))\n",
    "ax = sns.heatmap(cm, annot=True, fmt='d', annot_kws={\"size\": 20, \"weight\": \"bold\"})\n",
    "\n",
    "labels = ['Negative', 'Positive']\n",
    "ax.set_xticklabels(labels[::1], fontsize=20);\n",
    "ax.set_yticklabels(labels[::1], fontsize=20);\n",
    "ax.set_ylabel('Predicted class', fontsize=30);\n",
    "ax.set_xlabel('True class', fontsize=30)"
   ]
  },
  {
   "cell_type": "code",
   "execution_count": 79,
   "id": "9b2d2857",
   "metadata": {},
   "outputs": [
    {
     "data": {
      "image/png": "[encoded data removed]",
      "text/plain": [
       "<Figure size 1152x576 with 2 Axes>"
      ]
     },
     "metadata": {
      "needs_background": "light"
     },
     "output_type": "display_data"
    }
   ],
   "source": [
    "sns.set_context('talk')\n",
    "\n",
    "fig, axList = plt.subplots(ncols=2)\n",
    "fig.set_size_inches(16, 8)\n",
    "\n",
    "y_prob = knn_gr.predict_proba(X_test)\n",
    "\n",
    "\n",
    "ax = axList[0]\n",
    "\n",
    "fpr, tpr, thresholds = roc_curve(y_test, y_prob[:,1])\n",
    "ax.plot(fpr, tpr, linewidth=5)\n",
    "\n",
    "ax.plot([0, 1], [0, 1], ls='--', color='black', lw=.3)\n",
    "ax.set(xlabel='False Positive Rate',\n",
    "       ylabel='True Positive Rate',\n",
    "       xlim=[-.01, 1.01], ylim=[-.01, 1.01],\n",
    "       title='ROC curve')\n",
    "ax.grid(True)\n",
    "\n",
    "#---------------------------------------------------------------------------------------------#\n",
    "\n",
    "ax = axList[1]\n",
    "\n",
    "precision, recall, _ = precision_recall_curve(y_test, y_prob[:,1])\n",
    "ax.plot(recall, precision, linewidth=5)\n",
    "ax.set(xlabel='Recall', ylabel='Precision',\n",
    "       xlim=[-.01, 1.01], ylim=[-.01, 1.01],\n",
    "       title='Precision-Recall curve')\n",
    "ax.grid(True)\n",
    "\n",
    "plt.tight_layout()"
   ]
  },
  {
   "cell_type": "markdown",
   "id": "d562f5eb",
   "metadata": {},
   "source": [
    "### Performance conclusion"
   ]
  },
  {
   "cell_type": "code",
   "execution_count": 80,
   "id": "65d5d31d",
   "metadata": {},
   "outputs": [
    {
     "data": {
      "text/html": [
       "<div>\n",
       "<style scoped>\n",
       "    .dataframe tbody tr th:only-of-type {\n",
       "        vertical-align: middle;\n",
       "    }\n",
       "\n",
       "    .dataframe tbody tr th {\n",
       "        vertical-align: top;\n",
       "    }\n",
       "\n",
       "    .dataframe thead th {\n",
       "        text-align: right;\n",
       "    }\n",
       "</style>\n",
       "<table border=\"1\" class=\"dataframe\">\n",
       "  <thead>\n",
       "    <tr style=\"text-align: right;\">\n",
       "      <th></th>\n",
       "      <th>Decision Tree Classifier test score</th>\n",
       "      <th>RandomForestClassifier test score</th>\n",
       "      <th>LogisticRegression test score</th>\n",
       "      <th>KNN test score</th>\n",
       "    </tr>\n",
       "  </thead>\n",
       "  <tbody>\n",
       "    <tr>\n",
       "      <th>accuracy</th>\n",
       "      <td>0.777174</td>\n",
       "      <td>0.850543</td>\n",
       "      <td>0.864130</td>\n",
       "      <td>0.836957</td>\n",
       "    </tr>\n",
       "    <tr>\n",
       "      <th>precision</th>\n",
       "      <td>0.338028</td>\n",
       "      <td>0.666667</td>\n",
       "      <td>0.714286</td>\n",
       "      <td>0.470588</td>\n",
       "    </tr>\n",
       "    <tr>\n",
       "      <th>recall</th>\n",
       "      <td>0.406780</td>\n",
       "      <td>0.135593</td>\n",
       "      <td>0.254237</td>\n",
       "      <td>0.135593</td>\n",
       "    </tr>\n",
       "    <tr>\n",
       "      <th>f1</th>\n",
       "      <td>0.369231</td>\n",
       "      <td>0.225352</td>\n",
       "      <td>0.375000</td>\n",
       "      <td>0.210526</td>\n",
       "    </tr>\n",
       "  </tbody>\n",
       "</table>\n",
       "</div>"
      ],
      "text/plain": [
       "           Decision Tree Classifier test score  \\\n",
       "accuracy                              0.777174   \n",
       "precision                             0.338028   \n",
       "recall                                0.406780   \n",
       "f1                                    0.369231   \n",
       "\n",
       "           RandomForestClassifier test score  LogisticRegression test score  \\\n",
       "accuracy                            0.850543                       0.864130   \n",
       "precision                           0.666667                       0.714286   \n",
       "recall                              0.135593                       0.254237   \n",
       "f1                                  0.225352                       0.375000   \n",
       "\n",
       "           KNN test score  \n",
       "accuracy         0.836957  \n",
       "precision        0.470588  \n",
       "recall           0.135593  \n",
       "f1               0.210526  "
      ]
     },
     "execution_count": 80,
     "metadata": {},
     "output_type": "execute_result"
    }
   ],
   "source": [
    "train_test_full_error_default = pd.concat([measure_error(y_test, y_test_pred, 'Decision Tree Classifier test score'),\n",
    "                                  measure_error(y_test, y_test_pred_rf, 'RandomForestClassifier test score'),\n",
    "                                  measure_error(y_test, y_test_pred_lr, 'LogisticRegression test score'),\n",
    "                                  measure_error(y_test, y_test_pred_knn, 'KNN test score')],\n",
    "                              axis=1)\n",
    "train_test_full_error_default.to_clipboard(excel=True,sep='\\t')\n",
    "train_test_full_error_default"
   ]
  },
  {
   "cell_type": "code",
   "execution_count": 81,
   "id": "59a47226",
   "metadata": {},
   "outputs": [
    {
     "data": {
      "text/html": [
       "<div>\n",
       "<style scoped>\n",
       "    .dataframe tbody tr th:only-of-type {\n",
       "        vertical-align: middle;\n",
       "    }\n",
       "\n",
       "    .dataframe tbody tr th {\n",
       "        vertical-align: top;\n",
       "    }\n",
       "\n",
       "    .dataframe thead th {\n",
       "        text-align: right;\n",
       "    }\n",
       "</style>\n",
       "<table border=\"1\" class=\"dataframe\">\n",
       "  <thead>\n",
       "    <tr style=\"text-align: right;\">\n",
       "      <th></th>\n",
       "      <th>Decision Tree Classifier test score</th>\n",
       "      <th>RandomForestClassifier test score</th>\n",
       "      <th>LogisticRegression test score</th>\n",
       "      <th>KNN test score</th>\n",
       "    </tr>\n",
       "  </thead>\n",
       "  <tbody>\n",
       "    <tr>\n",
       "      <th>accuracy</th>\n",
       "      <td>0.850543</td>\n",
       "      <td>0.858696</td>\n",
       "      <td>0.877717</td>\n",
       "      <td>0.845109</td>\n",
       "    </tr>\n",
       "    <tr>\n",
       "      <th>precision</th>\n",
       "      <td>0.590909</td>\n",
       "      <td>0.705882</td>\n",
       "      <td>0.769231</td>\n",
       "      <td>0.750000</td>\n",
       "    </tr>\n",
       "    <tr>\n",
       "      <th>recall</th>\n",
       "      <td>0.220339</td>\n",
       "      <td>0.203390</td>\n",
       "      <td>0.338983</td>\n",
       "      <td>0.050847</td>\n",
       "    </tr>\n",
       "    <tr>\n",
       "      <th>f1</th>\n",
       "      <td>0.320988</td>\n",
       "      <td>0.315789</td>\n",
       "      <td>0.470588</td>\n",
       "      <td>0.095238</td>\n",
       "    </tr>\n",
       "  </tbody>\n",
       "</table>\n",
       "</div>"
      ],
      "text/plain": [
       "           Decision Tree Classifier test score  \\\n",
       "accuracy                              0.850543   \n",
       "precision                             0.590909   \n",
       "recall                                0.220339   \n",
       "f1                                    0.320988   \n",
       "\n",
       "           RandomForestClassifier test score  LogisticRegression test score  \\\n",
       "accuracy                            0.858696                       0.877717   \n",
       "precision                           0.705882                       0.769231   \n",
       "recall                              0.203390                       0.338983   \n",
       "f1                                  0.315789                       0.470588   \n",
       "\n",
       "           KNN test score  \n",
       "accuracy         0.845109  \n",
       "precision        0.750000  \n",
       "recall           0.050847  \n",
       "f1               0.095238  "
      ]
     },
     "execution_count": 81,
     "metadata": {},
     "output_type": "execute_result"
    }
   ],
   "source": [
    "train_test_full_error_cv = pd.concat([measure_error(y_test, y_test_pred_gr, 'Decision Tree Classifier test score'),\n",
    "                                  measure_error(y_test, y_test_pred_rf_gr, 'RandomForestClassifier test score'),\n",
    "                                  measure_error(y_test, y_test_pred_lr_l2, 'LogisticRegression test score'),\n",
    "                                  measure_error(y_test, y_test_pred_knn_gr, 'KNN test score')],\n",
    "                              axis=1)\n",
    "train_test_full_error_cv"
   ]
  },
  {
   "cell_type": "code",
   "execution_count": 82,
   "id": "e1aefb25",
   "metadata": {},
   "outputs": [],
   "source": [
    "train_test_full_error_cv.to_clipboard(excel=True,sep='\\t')"
   ]
  },
  {
   "cell_type": "code",
   "execution_count": null,
   "id": "a1722181",
   "metadata": {},
   "outputs": [],
   "source": []
  }
 ],
 "metadata": {
  "kernelspec": {
   "display_name": "Python 3 (ipykernel)",
   "language": "python",
   "name": "python3"
  },
  "language_info": {
   "codemirror_mode": {
    "name": "ipython",
    "version": 3
   },
   "file_extension": ".py",
   "mimetype": "text/x-python",
   "name": "python",
   "nbconvert_exporter": "python",
   "pygments_lexer": "ipython3",
   "version": "3.9.7"
  }
 },
 "nbformat": 4,
 "nbformat_minor": 5
}
